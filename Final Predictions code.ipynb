{
 "cells": [
  {
   "cell_type": "code",
   "execution_count": 1,
   "metadata": {},
   "outputs": [],
   "source": [
    "import numpy as np\n",
    "import pandas as pd\n",
    "df=pd.read_csv(r'./Dataset/MPEA RAW DATASET.csv')"
   ]
  },
  {
   "cell_type": "code",
   "execution_count": 2,
   "metadata": {},
   "outputs": [],
   "source": [
    "df1=df.drop(['Single/Multiphase','ROM Density (g/cm$^3$)','ROM Young modulus (GPa)','Exp. Young modulus (GPa)',],axis=1)"
   ]
  },
  {
   "cell_type": "code",
   "execution_count": 3,
   "metadata": {},
   "outputs": [],
   "source": [
    "import matplotlib.pyplot as plt\n",
    "import seaborn as sns"
   ]
  },
  {
   "cell_type": "code",
   "execution_count": 4,
   "metadata": {},
   "outputs": [
    {
     "name": "stdout",
     "output_type": "stream",
     "text": [
      "<class 'pandas.core.frame.DataFrame'>\n",
      "RangeIndex: 1545 entries, 0 to 1544\n",
      "Data columns (total 15 columns):\n",
      " #   Column                          Non-Null Count  Dtype  \n",
      "---  ------                          --------------  -----  \n",
      " 0   synthesis method                1426 non-null   object \n",
      " 1   grain size ($\\mu$m)             237 non-null    float64\n",
      " 2   HV                              530 non-null    float64\n",
      " 3   Type of test                    1150 non-null   object \n",
      " 4   Test temperature ($^\\circ$C)    1364 non-null   float64\n",
      " 5   YS (MPa)                        1067 non-null   float64\n",
      " 6   UTS (MPa)                       539 non-null    float64\n",
      " 7   Elongation (%)                  619 non-null    float64\n",
      " 8   Elongation plastic (%)          149 non-null    float64\n",
      " 9   Exp. Density (g/cm$^3$)         112 non-null    float64\n",
      " 10  BCC/FCC/other                   1545 non-null   object \n",
      " 11  Processing method               1426 non-null   object \n",
      " 12  Calculated Density (g/cm$^3$)   1545 non-null   float64\n",
      " 13  Calculated Young modulus (GPa)  729 non-null    float64\n",
      " 14  Young modulus_new (GPa)         785 non-null    float64\n",
      "dtypes: float64(11), object(4)\n",
      "memory usage: 181.2+ KB\n"
     ]
    }
   ],
   "source": [
    "df1.info()"
   ]
  },
  {
   "cell_type": "code",
   "execution_count": 5,
   "metadata": {},
   "outputs": [
    {
     "data": {
      "text/plain": [
       "<matplotlib.axes._subplots.AxesSubplot at 0x271c1c01a30>"
      ]
     },
     "execution_count": 5,
     "metadata": {},
     "output_type": "execute_result"
    },
    {
     "data": {
      "image/png": "[encoded data removed]",
      "text/plain": [
       "<Figure size 720x576 with 1 Axes>"
      ]
     },
     "metadata": {
      "needs_background": "light"
     },
     "output_type": "display_data"
    }
   ],
   "source": [
    "top_10=df1.count()\n",
    "top_10.plot(kind='bar',figsize=(10,8))"
   ]
  },
  {
   "cell_type": "code",
   "execution_count": 6,
   "metadata": {},
   "outputs": [],
   "source": [
    "df1=df1.drop(['grain size ($\\mu$m)','Elongation plastic (%)','Exp. Density (g/cm$^3$)'],axis=1)"
   ]
  },
  {
   "cell_type": "code",
   "execution_count": 7,
   "metadata": {},
   "outputs": [
    {
     "name": "stdout",
     "output_type": "stream",
     "text": [
      "<class 'pandas.core.frame.DataFrame'>\n",
      "RangeIndex: 1545 entries, 0 to 1544\n",
      "Data columns (total 12 columns):\n",
      " #   Column                          Non-Null Count  Dtype  \n",
      "---  ------                          --------------  -----  \n",
      " 0   synthesis method                1426 non-null   object \n",
      " 1   HV                              530 non-null    float64\n",
      " 2   Type of test                    1150 non-null   object \n",
      " 3   Test temperature ($^\\circ$C)    1364 non-null   float64\n",
      " 4   YS (MPa)                        1067 non-null   float64\n",
      " 5   UTS (MPa)                       539 non-null    float64\n",
      " 6   Elongation (%)                  619 non-null    float64\n",
      " 7   BCC/FCC/other                   1545 non-null   object \n",
      " 8   Processing method               1426 non-null   object \n",
      " 9   Calculated Density (g/cm$^3$)   1545 non-null   float64\n",
      " 10  Calculated Young modulus (GPa)  729 non-null    float64\n",
      " 11  Young modulus_new (GPa)         785 non-null    float64\n",
      "dtypes: float64(8), object(4)\n",
      "memory usage: 145.0+ KB\n"
     ]
    }
   ],
   "source": [
    "df1.info()"
   ]
  },
  {
   "cell_type": "code",
   "execution_count": 8,
   "metadata": {},
   "outputs": [],
   "source": [
    "df1=df1.drop(['Calculated Young modulus (GPa)'],axis=1)"
   ]
  },
  {
   "cell_type": "code",
   "execution_count": 9,
   "metadata": {},
   "outputs": [
    {
     "name": "stdout",
     "output_type": "stream",
     "text": [
      "<class 'pandas.core.frame.DataFrame'>\n",
      "RangeIndex: 1545 entries, 0 to 1544\n",
      "Data columns (total 11 columns):\n",
      " #   Column                         Non-Null Count  Dtype  \n",
      "---  ------                         --------------  -----  \n",
      " 0   synthesis method               1426 non-null   object \n",
      " 1   HV                             530 non-null    float64\n",
      " 2   Type of test                   1150 non-null   object \n",
      " 3   Test temperature ($^\\circ$C)   1364 non-null   float64\n",
      " 4   YS (MPa)                       1067 non-null   float64\n",
      " 5   UTS (MPa)                      539 non-null    float64\n",
      " 6   Elongation (%)                 619 non-null    float64\n",
      " 7   BCC/FCC/other                  1545 non-null   object \n",
      " 8   Processing method              1426 non-null   object \n",
      " 9   Calculated Density (g/cm$^3$)  1545 non-null   float64\n",
      " 10  Young modulus_new (GPa)        785 non-null    float64\n",
      "dtypes: float64(7), object(4)\n",
      "memory usage: 132.9+ KB\n"
     ]
    }
   ],
   "source": [
    "df1.info()"
   ]
  },
  {
   "cell_type": "code",
   "execution_count": 10,
   "metadata": {},
   "outputs": [],
   "source": [
    "df1 = df1.dropna(subset=['Young modulus_new (GPa)'])"
   ]
  },
  {
   "cell_type": "code",
   "execution_count": 11,
   "metadata": {},
   "outputs": [
    {
     "name": "stdout",
     "output_type": "stream",
     "text": [
      "<class 'pandas.core.frame.DataFrame'>\n",
      "Int64Index: 785 entries, 0 to 1544\n",
      "Data columns (total 11 columns):\n",
      " #   Column                         Non-Null Count  Dtype  \n",
      "---  ------                         --------------  -----  \n",
      " 0   synthesis method               748 non-null    object \n",
      " 1   HV                             235 non-null    float64\n",
      " 2   Type of test                   593 non-null    object \n",
      " 3   Test temperature ($^\\circ$C)   736 non-null    float64\n",
      " 4   YS (MPa)                       556 non-null    float64\n",
      " 5   UTS (MPa)                      282 non-null    float64\n",
      " 6   Elongation (%)                 314 non-null    float64\n",
      " 7   BCC/FCC/other                  785 non-null    object \n",
      " 8   Processing method              748 non-null    object \n",
      " 9   Calculated Density (g/cm$^3$)  785 non-null    float64\n",
      " 10  Young modulus_new (GPa)        785 non-null    float64\n",
      "dtypes: float64(7), object(4)\n",
      "memory usage: 73.6+ KB\n"
     ]
    }
   ],
   "source": [
    "df1.info()"
   ]
  },
  {
   "cell_type": "code",
   "execution_count": 12,
   "metadata": {},
   "outputs": [],
   "source": [
    "df1 = df1.dropna(subset=['Processing method','synthesis method'])"
   ]
  },
  {
   "cell_type": "code",
   "execution_count": 13,
   "metadata": {},
   "outputs": [
    {
     "name": "stdout",
     "output_type": "stream",
     "text": [
      "<class 'pandas.core.frame.DataFrame'>\n",
      "Int64Index: 748 entries, 0 to 1544\n",
      "Data columns (total 11 columns):\n",
      " #   Column                         Non-Null Count  Dtype  \n",
      "---  ------                         --------------  -----  \n",
      " 0   synthesis method               748 non-null    object \n",
      " 1   HV                             216 non-null    float64\n",
      " 2   Type of test                   590 non-null    object \n",
      " 3   Test temperature ($^\\circ$C)   712 non-null    float64\n",
      " 4   YS (MPa)                       554 non-null    float64\n",
      " 5   UTS (MPa)                      279 non-null    float64\n",
      " 6   Elongation (%)                 312 non-null    float64\n",
      " 7   BCC/FCC/other                  748 non-null    object \n",
      " 8   Processing method              748 non-null    object \n",
      " 9   Calculated Density (g/cm$^3$)  748 non-null    float64\n",
      " 10  Young modulus_new (GPa)        748 non-null    float64\n",
      "dtypes: float64(7), object(4)\n",
      "memory usage: 70.1+ KB\n"
     ]
    }
   ],
   "source": [
    "df1.info()"
   ]
  },
  {
   "cell_type": "code",
   "execution_count": 14,
   "metadata": {},
   "outputs": [],
   "source": [
    "df1 = df1.dropna(subset=['Type of test'])"
   ]
  },
  {
   "cell_type": "code",
   "execution_count": 15,
   "metadata": {},
   "outputs": [
    {
     "name": "stdout",
     "output_type": "stream",
     "text": [
      "<class 'pandas.core.frame.DataFrame'>\n",
      "Int64Index: 590 entries, 0 to 1507\n",
      "Data columns (total 11 columns):\n",
      " #   Column                         Non-Null Count  Dtype  \n",
      "---  ------                         --------------  -----  \n",
      " 0   synthesis method               590 non-null    object \n",
      " 1   HV                             119 non-null    float64\n",
      " 2   Type of test                   590 non-null    object \n",
      " 3   Test temperature ($^\\circ$C)   590 non-null    float64\n",
      " 4   YS (MPa)                       554 non-null    float64\n",
      " 5   UTS (MPa)                      279 non-null    float64\n",
      " 6   Elongation (%)                 312 non-null    float64\n",
      " 7   BCC/FCC/other                  590 non-null    object \n",
      " 8   Processing method              590 non-null    object \n",
      " 9   Calculated Density (g/cm$^3$)  590 non-null    float64\n",
      " 10  Young modulus_new (GPa)        590 non-null    float64\n",
      "dtypes: float64(7), object(4)\n",
      "memory usage: 55.3+ KB\n"
     ]
    }
   ],
   "source": [
    "df1.info()"
   ]
  },
  {
   "cell_type": "code",
   "execution_count": 16,
   "metadata": {},
   "outputs": [],
   "source": [
    "df1=df1.drop(['HV','UTS (MPa)','Elongation (%)'],axis=1)"
   ]
  },
  {
   "cell_type": "code",
   "execution_count": 97,
   "metadata": {},
   "outputs": [
    {
     "name": "stdout",
     "output_type": "stream",
     "text": [
      "<class 'pandas.core.frame.DataFrame'>\n",
      "Int64Index: 590 entries, 0 to 1507\n",
      "Data columns (total 8 columns):\n",
      " #   Column                         Non-Null Count  Dtype  \n",
      "---  ------                         --------------  -----  \n",
      " 0   synthesis method               590 non-null    object \n",
      " 1   Type of test                   590 non-null    object \n",
      " 2   Test temperature ($^\\circ$C)   590 non-null    float64\n",
      " 3   YS (MPa)                       590 non-null    float64\n",
      " 4   BCC/FCC/other                  590 non-null    object \n",
      " 5   Processing method              590 non-null    object \n",
      " 6   Calculated Density (g/cm$^3$)  590 non-null    float64\n",
      " 7   Young modulus_new (GPa)        590 non-null    float64\n",
      "dtypes: float64(4), object(4)\n",
      "memory usage: 61.5+ KB\n"
     ]
    }
   ],
   "source": [
    "df1.info()"
   ]
  },
  {
   "cell_type": "markdown",
   "metadata": {},
   "source": [
    "# try to fill na value with mean max"
   ]
  },
  {
   "cell_type": "code",
   "execution_count": 98,
   "metadata": {},
   "outputs": [],
   "source": [
    "df1.iloc[:,3] = df1.iloc[:,3].fillna((df1.iloc[:,3].mean()))"
   ]
  },
  {
   "cell_type": "code",
   "execution_count": 99,
   "metadata": {},
   "outputs": [],
   "source": [
    "# df1.iloc[:,3] = df1.iloc[:,3].fillna((df1.iloc[:,3].max()))"
   ]
  },
  {
   "cell_type": "code",
   "execution_count": 100,
   "metadata": {},
   "outputs": [
    {
     "name": "stdout",
     "output_type": "stream",
     "text": [
      "<class 'pandas.core.frame.DataFrame'>\n",
      "Int64Index: 590 entries, 0 to 1507\n",
      "Data columns (total 8 columns):\n",
      " #   Column                         Non-Null Count  Dtype  \n",
      "---  ------                         --------------  -----  \n",
      " 0   synthesis method               590 non-null    object \n",
      " 1   Type of test                   590 non-null    object \n",
      " 2   Test temperature ($^\\circ$C)   590 non-null    float64\n",
      " 3   YS (MPa)                       590 non-null    float64\n",
      " 4   BCC/FCC/other                  590 non-null    object \n",
      " 5   Processing method              590 non-null    object \n",
      " 6   Calculated Density (g/cm$^3$)  590 non-null    float64\n",
      " 7   Young modulus_new (GPa)        590 non-null    float64\n",
      "dtypes: float64(4), object(4)\n",
      "memory usage: 61.5+ KB\n"
     ]
    }
   ],
   "source": [
    "df1.info()"
   ]
  },
  {
   "cell_type": "code",
   "execution_count": 101,
   "metadata": {},
   "outputs": [
    {
     "name": "stdout",
     "output_type": "stream",
     "text": [
      "<class 'pandas.core.frame.DataFrame'>\n",
      "Int64Index: 590 entries, 0 to 1507\n",
      "Data columns (total 8 columns):\n",
      " #   Column                         Non-Null Count  Dtype  \n",
      "---  ------                         --------------  -----  \n",
      " 0   synthesis method               590 non-null    object \n",
      " 1   Type of test                   590 non-null    object \n",
      " 2   Test temperature ($^\\circ$C)   590 non-null    float64\n",
      " 3   YS (MPa)                       590 non-null    float64\n",
      " 4   BCC/FCC/other                  590 non-null    object \n",
      " 5   Processing method              590 non-null    object \n",
      " 6   Calculated Density (g/cm$^3$)  590 non-null    float64\n",
      " 7   Young modulus_new (GPa)        590 non-null    float64\n",
      "dtypes: float64(4), object(4)\n",
      "memory usage: 61.5+ KB\n"
     ]
    }
   ],
   "source": [
    "df1.info()"
   ]
  },
  {
   "cell_type": "code",
   "execution_count": 102,
   "metadata": {},
   "outputs": [],
   "source": [
    "red_circle = dict(markerfacecolor='red', marker='o')\n",
    "mean_shape = dict(markerfacecolor='green', marker='D', markeredgecolor='green')\n",
    "def plot_boxplot(dataframe,ft):\n",
    "    dataframe.boxplot(column=[ft],flierprops=red_circle, return_type='axes', showmeans=True, meanprops=mean_shape)\n",
    "    plt.grid(False)\n",
    "    plt.show()"
   ]
  },
  {
   "cell_type": "code",
   "execution_count": 103,
   "metadata": {},
   "outputs": [
    {
     "data": {
      "image/png": "[encoded data removed]",
      "text/plain": [
       "<Figure size 432x288 with 1 Axes>"
      ]
     },
     "metadata": {
      "needs_background": "light"
     },
     "output_type": "display_data"
    }
   ],
   "source": [
    "plot_boxplot(df1,'Test temperature ($^\\circ$C)')"
   ]
  },
  {
   "cell_type": "code",
   "execution_count": 104,
   "metadata": {},
   "outputs": [
    {
     "data": {
      "image/png": "[encoded data removed]",
      "text/plain": [
       "<Figure size 432x288 with 1 Axes>"
      ]
     },
     "metadata": {
      "needs_background": "light"
     },
     "output_type": "display_data"
    }
   ],
   "source": [
    "plot_boxplot(df1,'YS (MPa)')"
   ]
  },
  {
   "cell_type": "code",
   "execution_count": 105,
   "metadata": {},
   "outputs": [
    {
     "data": {
      "image/png": "[encoded data removed]",
      "text/plain": [
       "<Figure size 432x288 with 1 Axes>"
      ]
     },
     "metadata": {
      "needs_background": "light"
     },
     "output_type": "display_data"
    }
   ],
   "source": [
    "plot_boxplot(df1,'Calculated Density (g/cm$^3$)')"
   ]
  },
  {
   "cell_type": "code",
   "execution_count": 106,
   "metadata": {},
   "outputs": [
    {
     "data": {
      "image/png": "[encoded data removed]",
      "text/plain": [
       "<Figure size 432x288 with 1 Axes>"
      ]
     },
     "metadata": {
      "needs_background": "light"
     },
     "output_type": "display_data"
    }
   ],
   "source": [
    "plot_boxplot(df1,'Young modulus_new (GPa)')"
   ]
  },
  {
   "cell_type": "code",
   "execution_count": 107,
   "metadata": {},
   "outputs": [],
   "source": [
    "def outliers(dataframe,ft):\n",
    "        q1=dataframe[ft].quantile(0.25)\n",
    "        q3=dataframe[ft].quantile(0.75)\n",
    "        IQR=q3-q1\n",
    "        lower_bound=q1-1.5*IQR\n",
    "        upper_bound=q3+1.5*IQR\n",
    "        IS=dataframe.index[(dataframe[ft]<lower_bound)|(dataframe[ft]>upper_bound)]\n",
    "        return IS"
   ]
  },
  {
   "cell_type": "code",
   "execution_count": 108,
   "metadata": {},
   "outputs": [
    {
     "data": {
      "text/plain": [
       "Int64Index([346, 353], dtype='int64')"
      ]
     },
     "execution_count": 108,
     "metadata": {},
     "output_type": "execute_result"
    }
   ],
   "source": [
    "outliers(df1,'Test temperature ($^\\circ$C)')"
   ]
  },
  {
   "cell_type": "code",
   "execution_count": 109,
   "metadata": {},
   "outputs": [
    {
     "data": {
      "text/plain": [
       "Int64Index([  47,   48,   49,   50,   51,  212,  213,  220,  421,  461,  559,\n",
       "             589,  729,  730,  786,  787,  808,  809,  984,  993,  994, 1043,\n",
       "            1044, 1045, 1088, 1383, 1384, 1385, 1386, 1387, 1388, 1389, 1390,\n",
       "            1391, 1392, 1448, 1451],\n",
       "           dtype='int64')"
      ]
     },
     "execution_count": 109,
     "metadata": {},
     "output_type": "execute_result"
    }
   ],
   "source": [
    "outliers(df1,'YS (MPa)')"
   ]
  },
  {
   "cell_type": "code",
   "execution_count": 110,
   "metadata": {},
   "outputs": [
    {
     "data": {
      "text/plain": [
       "Int64Index([ 340,  341,  342,  343,  344,  345,  346,  347,  348,  349,  350,\n",
       "             351,  352,  353,  570,  571,  574,  589,  592,  964,  965, 1068,\n",
       "            1288, 1377, 1378, 1379, 1380],\n",
       "           dtype='int64')"
      ]
     },
     "execution_count": 110,
     "metadata": {},
     "output_type": "execute_result"
    }
   ],
   "source": [
    "outliers(df1,'Calculated Density (g/cm$^3$)')"
   ]
  },
  {
   "cell_type": "code",
   "execution_count": 111,
   "metadata": {},
   "outputs": [
    {
     "data": {
      "text/plain": [
       "Int64Index([], dtype='int64')"
      ]
     },
     "execution_count": 111,
     "metadata": {},
     "output_type": "execute_result"
    }
   ],
   "source": [
    "outliers(df1,'Young modulus_new (GPa)')"
   ]
  },
  {
   "cell_type": "code",
   "execution_count": 112,
   "metadata": {},
   "outputs": [],
   "source": [
    "Index_list=[]\n",
    "for feature in ['Test temperature ($^\\circ$C)','YS (MPa)','Calculated Density (g/cm$^3$)','Young modulus_new (GPa)']:\n",
    "    Index_list.extend(outliers(df1,feature))"
   ]
  },
  {
   "cell_type": "code",
   "execution_count": 113,
   "metadata": {},
   "outputs": [
    {
     "data": {
      "text/plain": [
       "66"
      ]
     },
     "execution_count": 113,
     "metadata": {},
     "output_type": "execute_result"
    }
   ],
   "source": [
    "len(Index_list)"
   ]
  },
  {
   "cell_type": "code",
   "execution_count": 114,
   "metadata": {},
   "outputs": [],
   "source": [
    "def remove(dataframe,IS):\n",
    "    IS=sorted(set(IS))\n",
    "    dataframe=dataframe.drop(IS)\n",
    "    return dataframe"
   ]
  },
  {
   "cell_type": "code",
   "execution_count": 115,
   "metadata": {},
   "outputs": [],
   "source": [
    "df_cleaned =remove(df1,Index_list)"
   ]
  },
  {
   "cell_type": "code",
   "execution_count": 116,
   "metadata": {},
   "outputs": [
    {
     "data": {
      "text/html": [
       "<div>\n",
       "<style scoped>\n",
       "    .dataframe tbody tr th:only-of-type {\n",
       "        vertical-align: middle;\n",
       "    }\n",
       "\n",
       "    .dataframe tbody tr th {\n",
       "        vertical-align: top;\n",
       "    }\n",
       "\n",
       "    .dataframe thead th {\n",
       "        text-align: right;\n",
       "    }\n",
       "</style>\n",
       "<table border=\"1\" class=\"dataframe\">\n",
       "  <thead>\n",
       "    <tr style=\"text-align: right;\">\n",
       "      <th></th>\n",
       "      <th>synthesis method</th>\n",
       "      <th>Type of test</th>\n",
       "      <th>Test temperature ($^\\circ$C)</th>\n",
       "      <th>YS (MPa)</th>\n",
       "      <th>BCC/FCC/other</th>\n",
       "      <th>Processing method</th>\n",
       "      <th>Calculated Density (g/cm$^3$)</th>\n",
       "      <th>Young modulus_new (GPa)</th>\n",
       "    </tr>\n",
       "  </thead>\n",
       "  <tbody>\n",
       "    <tr>\n",
       "      <th>0</th>\n",
       "      <td>AC</td>\n",
       "      <td>C</td>\n",
       "      <td>25.0</td>\n",
       "      <td>158.0</td>\n",
       "      <td>FCC</td>\n",
       "      <td>CAST</td>\n",
       "      <td>7.9</td>\n",
       "      <td>196.0</td>\n",
       "    </tr>\n",
       "    <tr>\n",
       "      <th>1</th>\n",
       "      <td>AC</td>\n",
       "      <td>C</td>\n",
       "      <td>25.0</td>\n",
       "      <td>346.0</td>\n",
       "      <td>other</td>\n",
       "      <td>CAST</td>\n",
       "      <td>7.4</td>\n",
       "      <td>187.0</td>\n",
       "    </tr>\n",
       "    <tr>\n",
       "      <th>2</th>\n",
       "      <td>AC</td>\n",
       "      <td>C</td>\n",
       "      <td>25.0</td>\n",
       "      <td>794.0</td>\n",
       "      <td>other</td>\n",
       "      <td>CAST</td>\n",
       "      <td>7.0</td>\n",
       "      <td>179.0</td>\n",
       "    </tr>\n",
       "    <tr>\n",
       "      <th>3</th>\n",
       "      <td>AC</td>\n",
       "      <td>C</td>\n",
       "      <td>25.0</td>\n",
       "      <td>964.0</td>\n",
       "      <td>BCC</td>\n",
       "      <td>CAST</td>\n",
       "      <td>6.6</td>\n",
       "      <td>173.0</td>\n",
       "    </tr>\n",
       "    <tr>\n",
       "      <th>4</th>\n",
       "      <td>AC</td>\n",
       "      <td>C</td>\n",
       "      <td>25.0</td>\n",
       "      <td>204.0</td>\n",
       "      <td>FCC</td>\n",
       "      <td>CAST</td>\n",
       "      <td>8.5</td>\n",
       "      <td>207.0</td>\n",
       "    </tr>\n",
       "    <tr>\n",
       "      <th>...</th>\n",
       "      <td>...</td>\n",
       "      <td>...</td>\n",
       "      <td>...</td>\n",
       "      <td>...</td>\n",
       "      <td>...</td>\n",
       "      <td>...</td>\n",
       "      <td>...</td>\n",
       "      <td>...</td>\n",
       "    </tr>\n",
       "    <tr>\n",
       "      <th>1503</th>\n",
       "      <td>HIP + CR + A</td>\n",
       "      <td>T</td>\n",
       "      <td>25.0</td>\n",
       "      <td>1094.0</td>\n",
       "      <td>BCC</td>\n",
       "      <td>OTHER</td>\n",
       "      <td>9.9</td>\n",
       "      <td>107.0</td>\n",
       "    </tr>\n",
       "    <tr>\n",
       "      <th>1504</th>\n",
       "      <td>HIP + CR + A</td>\n",
       "      <td>T</td>\n",
       "      <td>25.0</td>\n",
       "      <td>1071.0</td>\n",
       "      <td>BCC</td>\n",
       "      <td>OTHER</td>\n",
       "      <td>9.9</td>\n",
       "      <td>107.0</td>\n",
       "    </tr>\n",
       "    <tr>\n",
       "      <th>1505</th>\n",
       "      <td>HIP + CR + A</td>\n",
       "      <td>T</td>\n",
       "      <td>25.0</td>\n",
       "      <td>1107.0</td>\n",
       "      <td>BCC</td>\n",
       "      <td>OTHER</td>\n",
       "      <td>9.9</td>\n",
       "      <td>107.0</td>\n",
       "    </tr>\n",
       "    <tr>\n",
       "      <th>1506</th>\n",
       "      <td>HIP + CR + A</td>\n",
       "      <td>T</td>\n",
       "      <td>25.0</td>\n",
       "      <td>1115.0</td>\n",
       "      <td>BCC</td>\n",
       "      <td>OTHER</td>\n",
       "      <td>9.9</td>\n",
       "      <td>107.0</td>\n",
       "    </tr>\n",
       "    <tr>\n",
       "      <th>1507</th>\n",
       "      <td>HIP + CR + A</td>\n",
       "      <td>T</td>\n",
       "      <td>25.0</td>\n",
       "      <td>1114.0</td>\n",
       "      <td>BCC</td>\n",
       "      <td>OTHER</td>\n",
       "      <td>9.9</td>\n",
       "      <td>107.0</td>\n",
       "    </tr>\n",
       "  </tbody>\n",
       "</table>\n",
       "<p>527 rows × 8 columns</p>\n",
       "</div>"
      ],
      "text/plain": [
       "     synthesis method Type of test  Test temperature ($^\\circ$C)  YS (MPa)  \\\n",
       "0                  AC            C                          25.0     158.0   \n",
       "1                  AC            C                          25.0     346.0   \n",
       "2                  AC            C                          25.0     794.0   \n",
       "3                  AC            C                          25.0     964.0   \n",
       "4                  AC            C                          25.0     204.0   \n",
       "...               ...          ...                           ...       ...   \n",
       "1503     HIP + CR + A            T                          25.0    1094.0   \n",
       "1504     HIP + CR + A            T                          25.0    1071.0   \n",
       "1505     HIP + CR + A            T                          25.0    1107.0   \n",
       "1506     HIP + CR + A            T                          25.0    1115.0   \n",
       "1507     HIP + CR + A            T                          25.0    1114.0   \n",
       "\n",
       "     BCC/FCC/other Processing method  Calculated Density (g/cm$^3$)  \\\n",
       "0              FCC              CAST                            7.9   \n",
       "1            other              CAST                            7.4   \n",
       "2            other              CAST                            7.0   \n",
       "3              BCC              CAST                            6.6   \n",
       "4              FCC              CAST                            8.5   \n",
       "...            ...               ...                            ...   \n",
       "1503           BCC             OTHER                            9.9   \n",
       "1504           BCC             OTHER                            9.9   \n",
       "1505           BCC             OTHER                            9.9   \n",
       "1506           BCC             OTHER                            9.9   \n",
       "1507           BCC             OTHER                            9.9   \n",
       "\n",
       "      Young modulus_new (GPa)  \n",
       "0                       196.0  \n",
       "1                       187.0  \n",
       "2                       179.0  \n",
       "3                       173.0  \n",
       "4                       207.0  \n",
       "...                       ...  \n",
       "1503                    107.0  \n",
       "1504                    107.0  \n",
       "1505                    107.0  \n",
       "1506                    107.0  \n",
       "1507                    107.0  \n",
       "\n",
       "[527 rows x 8 columns]"
      ]
     },
     "execution_count": 116,
     "metadata": {},
     "output_type": "execute_result"
    }
   ],
   "source": [
    "df_cleaned"
   ]
  },
  {
   "cell_type": "code",
   "execution_count": 117,
   "metadata": {},
   "outputs": [],
   "source": [
    "X= df_cleaned.drop([\"Young modulus_new (GPa)\"],axis=1) \n",
    "Y = df_cleaned[\"Young modulus_new (GPa)\"]"
   ]
  },
  {
   "cell_type": "code",
   "execution_count": 118,
   "metadata": {},
   "outputs": [
    {
     "data": {
      "text/plain": [
       "((368, 7), (159, 7))"
      ]
     },
     "execution_count": 118,
     "metadata": {},
     "output_type": "execute_result"
    }
   ],
   "source": [
    "from sklearn.model_selection import train_test_split\n",
    "X_train, X_test, y_train, y_test = train_test_split(\n",
    "    X,\n",
    "    Y,\n",
    "    test_size=0.3,\n",
    "    random_state=0)\n",
    "\n",
    "X_train.shape, X_test.shape"
   ]
  },
  {
   "cell_type": "code",
   "execution_count": 119,
   "metadata": {},
   "outputs": [
    {
     "data": {
      "text/html": [
       "<div>\n",
       "<style scoped>\n",
       "    .dataframe tbody tr th:only-of-type {\n",
       "        vertical-align: middle;\n",
       "    }\n",
       "\n",
       "    .dataframe tbody tr th {\n",
       "        vertical-align: top;\n",
       "    }\n",
       "\n",
       "    .dataframe thead th {\n",
       "        text-align: right;\n",
       "    }\n",
       "</style>\n",
       "<table border=\"1\" class=\"dataframe\">\n",
       "  <thead>\n",
       "    <tr style=\"text-align: right;\">\n",
       "      <th></th>\n",
       "      <th>Test temperature ($^\\circ$C)</th>\n",
       "      <th>YS (MPa)</th>\n",
       "      <th>Calculated Density (g/cm$^3$)</th>\n",
       "    </tr>\n",
       "  </thead>\n",
       "  <tbody>\n",
       "    <tr>\n",
       "      <th>Test temperature ($^\\circ$C)</th>\n",
       "      <td>1.000000</td>\n",
       "      <td>-0.414761</td>\n",
       "      <td>0.128635</td>\n",
       "    </tr>\n",
       "    <tr>\n",
       "      <th>YS (MPa)</th>\n",
       "      <td>-0.414761</td>\n",
       "      <td>1.000000</td>\n",
       "      <td>-0.051334</td>\n",
       "    </tr>\n",
       "    <tr>\n",
       "      <th>Calculated Density (g/cm$^3$)</th>\n",
       "      <td>0.128635</td>\n",
       "      <td>-0.051334</td>\n",
       "      <td>1.000000</td>\n",
       "    </tr>\n",
       "  </tbody>\n",
       "</table>\n",
       "</div>"
      ],
      "text/plain": [
       "                               Test temperature ($^\\circ$C)  YS (MPa)  \\\n",
       "Test temperature ($^\\circ$C)                       1.000000 -0.414761   \n",
       "YS (MPa)                                          -0.414761  1.000000   \n",
       "Calculated Density (g/cm$^3$)                      0.128635 -0.051334   \n",
       "\n",
       "                               Calculated Density (g/cm$^3$)  \n",
       "Test temperature ($^\\circ$C)                        0.128635  \n",
       "YS (MPa)                                           -0.051334  \n",
       "Calculated Density (g/cm$^3$)                       1.000000  "
      ]
     },
     "execution_count": 119,
     "metadata": {},
     "output_type": "execute_result"
    }
   ],
   "source": [
    "X_train.corr()"
   ]
  },
  {
   "cell_type": "code",
   "execution_count": 120,
   "metadata": {},
   "outputs": [
    {
     "data": {
      "image/png": "[encoded data removed]",
      "text/plain": [
       "<Figure size 864x720 with 2 Axes>"
      ]
     },
     "metadata": {
      "needs_background": "light"
     },
     "output_type": "display_data"
    }
   ],
   "source": [
    "import seaborn as sns\n",
    "#Using Pearson Correlation\n",
    "plt.figure(figsize=(12,10))\n",
    "cor = X_train.corr()\n",
    "sns.heatmap(cor, annot=True, cmap=plt.cm.CMRmap_r)\n",
    "plt.show()\n"
   ]
  },
  {
   "cell_type": "code",
   "execution_count": 121,
   "metadata": {},
   "outputs": [],
   "source": [
    "dummy01 = pd.get_dummies(df_cleaned[\"synthesis method\"],drop_first=True)"
   ]
  },
  {
   "cell_type": "code",
   "execution_count": 122,
   "metadata": {},
   "outputs": [
    {
     "data": {
      "text/plain": [
       "(527, 18)"
      ]
     },
     "execution_count": 122,
     "metadata": {},
     "output_type": "execute_result"
    }
   ],
   "source": [
    "dummy01.shape"
   ]
  },
  {
   "cell_type": "code",
   "execution_count": 123,
   "metadata": {},
   "outputs": [],
   "source": [
    "dummy02 = pd.get_dummies(df_cleaned[\"Type of test\"],drop_first=True)"
   ]
  },
  {
   "cell_type": "code",
   "execution_count": 124,
   "metadata": {},
   "outputs": [],
   "source": [
    "dummy03 = pd.get_dummies(df_cleaned[\"BCC/FCC/other\"],drop_first=True)"
   ]
  },
  {
   "cell_type": "code",
   "execution_count": 125,
   "metadata": {},
   "outputs": [],
   "source": [
    "dummy04 = pd.get_dummies(df_cleaned[\"Processing method\"],drop_first=True)"
   ]
  },
  {
   "cell_type": "code",
   "execution_count": 126,
   "metadata": {},
   "outputs": [],
   "source": [
    "merged = pd.concat([df_cleaned,dummy01,dummy02,dummy03,dummy04],axis='columns')\n",
    "merged.drop(['synthesis method','Type of test','BCC/FCC/other','Processing method'],axis=1,inplace=True)"
   ]
  },
  {
   "cell_type": "code",
   "execution_count": 127,
   "metadata": {},
   "outputs": [
    {
     "data": {
      "text/html": [
       "<div>\n",
       "<style scoped>\n",
       "    .dataframe tbody tr th:only-of-type {\n",
       "        vertical-align: middle;\n",
       "    }\n",
       "\n",
       "    .dataframe tbody tr th {\n",
       "        vertical-align: top;\n",
       "    }\n",
       "\n",
       "    .dataframe thead th {\n",
       "        text-align: right;\n",
       "    }\n",
       "</style>\n",
       "<table border=\"1\" class=\"dataframe\">\n",
       "  <thead>\n",
       "    <tr style=\"text-align: right;\">\n",
       "      <th></th>\n",
       "      <th>Test temperature ($^\\circ$C)</th>\n",
       "      <th>YS (MPa)</th>\n",
       "      <th>Calculated Density (g/cm$^3$)</th>\n",
       "      <th>Young modulus_new (GPa)</th>\n",
       "      <th>A + HF</th>\n",
       "      <th>A + HR</th>\n",
       "      <th>AC</th>\n",
       "      <th>CR</th>\n",
       "      <th>CR + A</th>\n",
       "      <th>CR + A</th>\n",
       "      <th>...</th>\n",
       "      <th>HR + A</th>\n",
       "      <th>SPD</th>\n",
       "      <th>SPS</th>\n",
       "      <th>T</th>\n",
       "      <th>FCC</th>\n",
       "      <th>other</th>\n",
       "      <th>CAST</th>\n",
       "      <th>OTHER</th>\n",
       "      <th>POWDER</th>\n",
       "      <th>WROUGHT</th>\n",
       "    </tr>\n",
       "  </thead>\n",
       "  <tbody>\n",
       "    <tr>\n",
       "      <th>0</th>\n",
       "      <td>25.0</td>\n",
       "      <td>158.0</td>\n",
       "      <td>7.9</td>\n",
       "      <td>196.0</td>\n",
       "      <td>0</td>\n",
       "      <td>0</td>\n",
       "      <td>1</td>\n",
       "      <td>0</td>\n",
       "      <td>0</td>\n",
       "      <td>0</td>\n",
       "      <td>...</td>\n",
       "      <td>0</td>\n",
       "      <td>0</td>\n",
       "      <td>0</td>\n",
       "      <td>0</td>\n",
       "      <td>1</td>\n",
       "      <td>0</td>\n",
       "      <td>1</td>\n",
       "      <td>0</td>\n",
       "      <td>0</td>\n",
       "      <td>0</td>\n",
       "    </tr>\n",
       "    <tr>\n",
       "      <th>1</th>\n",
       "      <td>25.0</td>\n",
       "      <td>346.0</td>\n",
       "      <td>7.4</td>\n",
       "      <td>187.0</td>\n",
       "      <td>0</td>\n",
       "      <td>0</td>\n",
       "      <td>1</td>\n",
       "      <td>0</td>\n",
       "      <td>0</td>\n",
       "      <td>0</td>\n",
       "      <td>...</td>\n",
       "      <td>0</td>\n",
       "      <td>0</td>\n",
       "      <td>0</td>\n",
       "      <td>0</td>\n",
       "      <td>0</td>\n",
       "      <td>1</td>\n",
       "      <td>1</td>\n",
       "      <td>0</td>\n",
       "      <td>0</td>\n",
       "      <td>0</td>\n",
       "    </tr>\n",
       "    <tr>\n",
       "      <th>2</th>\n",
       "      <td>25.0</td>\n",
       "      <td>794.0</td>\n",
       "      <td>7.0</td>\n",
       "      <td>179.0</td>\n",
       "      <td>0</td>\n",
       "      <td>0</td>\n",
       "      <td>1</td>\n",
       "      <td>0</td>\n",
       "      <td>0</td>\n",
       "      <td>0</td>\n",
       "      <td>...</td>\n",
       "      <td>0</td>\n",
       "      <td>0</td>\n",
       "      <td>0</td>\n",
       "      <td>0</td>\n",
       "      <td>0</td>\n",
       "      <td>1</td>\n",
       "      <td>1</td>\n",
       "      <td>0</td>\n",
       "      <td>0</td>\n",
       "      <td>0</td>\n",
       "    </tr>\n",
       "    <tr>\n",
       "      <th>3</th>\n",
       "      <td>25.0</td>\n",
       "      <td>964.0</td>\n",
       "      <td>6.6</td>\n",
       "      <td>173.0</td>\n",
       "      <td>0</td>\n",
       "      <td>0</td>\n",
       "      <td>1</td>\n",
       "      <td>0</td>\n",
       "      <td>0</td>\n",
       "      <td>0</td>\n",
       "      <td>...</td>\n",
       "      <td>0</td>\n",
       "      <td>0</td>\n",
       "      <td>0</td>\n",
       "      <td>0</td>\n",
       "      <td>0</td>\n",
       "      <td>0</td>\n",
       "      <td>1</td>\n",
       "      <td>0</td>\n",
       "      <td>0</td>\n",
       "      <td>0</td>\n",
       "    </tr>\n",
       "    <tr>\n",
       "      <th>4</th>\n",
       "      <td>25.0</td>\n",
       "      <td>204.0</td>\n",
       "      <td>8.5</td>\n",
       "      <td>207.0</td>\n",
       "      <td>0</td>\n",
       "      <td>0</td>\n",
       "      <td>1</td>\n",
       "      <td>0</td>\n",
       "      <td>0</td>\n",
       "      <td>0</td>\n",
       "      <td>...</td>\n",
       "      <td>0</td>\n",
       "      <td>0</td>\n",
       "      <td>0</td>\n",
       "      <td>0</td>\n",
       "      <td>1</td>\n",
       "      <td>0</td>\n",
       "      <td>1</td>\n",
       "      <td>0</td>\n",
       "      <td>0</td>\n",
       "      <td>0</td>\n",
       "    </tr>\n",
       "    <tr>\n",
       "      <th>...</th>\n",
       "      <td>...</td>\n",
       "      <td>...</td>\n",
       "      <td>...</td>\n",
       "      <td>...</td>\n",
       "      <td>...</td>\n",
       "      <td>...</td>\n",
       "      <td>...</td>\n",
       "      <td>...</td>\n",
       "      <td>...</td>\n",
       "      <td>...</td>\n",
       "      <td>...</td>\n",
       "      <td>...</td>\n",
       "      <td>...</td>\n",
       "      <td>...</td>\n",
       "      <td>...</td>\n",
       "      <td>...</td>\n",
       "      <td>...</td>\n",
       "      <td>...</td>\n",
       "      <td>...</td>\n",
       "      <td>...</td>\n",
       "      <td>...</td>\n",
       "    </tr>\n",
       "    <tr>\n",
       "      <th>1503</th>\n",
       "      <td>25.0</td>\n",
       "      <td>1094.0</td>\n",
       "      <td>9.9</td>\n",
       "      <td>107.0</td>\n",
       "      <td>0</td>\n",
       "      <td>0</td>\n",
       "      <td>0</td>\n",
       "      <td>0</td>\n",
       "      <td>0</td>\n",
       "      <td>0</td>\n",
       "      <td>...</td>\n",
       "      <td>0</td>\n",
       "      <td>0</td>\n",
       "      <td>0</td>\n",
       "      <td>1</td>\n",
       "      <td>0</td>\n",
       "      <td>0</td>\n",
       "      <td>0</td>\n",
       "      <td>1</td>\n",
       "      <td>0</td>\n",
       "      <td>0</td>\n",
       "    </tr>\n",
       "    <tr>\n",
       "      <th>1504</th>\n",
       "      <td>25.0</td>\n",
       "      <td>1071.0</td>\n",
       "      <td>9.9</td>\n",
       "      <td>107.0</td>\n",
       "      <td>0</td>\n",
       "      <td>0</td>\n",
       "      <td>0</td>\n",
       "      <td>0</td>\n",
       "      <td>0</td>\n",
       "      <td>0</td>\n",
       "      <td>...</td>\n",
       "      <td>0</td>\n",
       "      <td>0</td>\n",
       "      <td>0</td>\n",
       "      <td>1</td>\n",
       "      <td>0</td>\n",
       "      <td>0</td>\n",
       "      <td>0</td>\n",
       "      <td>1</td>\n",
       "      <td>0</td>\n",
       "      <td>0</td>\n",
       "    </tr>\n",
       "    <tr>\n",
       "      <th>1505</th>\n",
       "      <td>25.0</td>\n",
       "      <td>1107.0</td>\n",
       "      <td>9.9</td>\n",
       "      <td>107.0</td>\n",
       "      <td>0</td>\n",
       "      <td>0</td>\n",
       "      <td>0</td>\n",
       "      <td>0</td>\n",
       "      <td>0</td>\n",
       "      <td>0</td>\n",
       "      <td>...</td>\n",
       "      <td>0</td>\n",
       "      <td>0</td>\n",
       "      <td>0</td>\n",
       "      <td>1</td>\n",
       "      <td>0</td>\n",
       "      <td>0</td>\n",
       "      <td>0</td>\n",
       "      <td>1</td>\n",
       "      <td>0</td>\n",
       "      <td>0</td>\n",
       "    </tr>\n",
       "    <tr>\n",
       "      <th>1506</th>\n",
       "      <td>25.0</td>\n",
       "      <td>1115.0</td>\n",
       "      <td>9.9</td>\n",
       "      <td>107.0</td>\n",
       "      <td>0</td>\n",
       "      <td>0</td>\n",
       "      <td>0</td>\n",
       "      <td>0</td>\n",
       "      <td>0</td>\n",
       "      <td>0</td>\n",
       "      <td>...</td>\n",
       "      <td>0</td>\n",
       "      <td>0</td>\n",
       "      <td>0</td>\n",
       "      <td>1</td>\n",
       "      <td>0</td>\n",
       "      <td>0</td>\n",
       "      <td>0</td>\n",
       "      <td>1</td>\n",
       "      <td>0</td>\n",
       "      <td>0</td>\n",
       "    </tr>\n",
       "    <tr>\n",
       "      <th>1507</th>\n",
       "      <td>25.0</td>\n",
       "      <td>1114.0</td>\n",
       "      <td>9.9</td>\n",
       "      <td>107.0</td>\n",
       "      <td>0</td>\n",
       "      <td>0</td>\n",
       "      <td>0</td>\n",
       "      <td>0</td>\n",
       "      <td>0</td>\n",
       "      <td>0</td>\n",
       "      <td>...</td>\n",
       "      <td>0</td>\n",
       "      <td>0</td>\n",
       "      <td>0</td>\n",
       "      <td>1</td>\n",
       "      <td>0</td>\n",
       "      <td>0</td>\n",
       "      <td>0</td>\n",
       "      <td>1</td>\n",
       "      <td>0</td>\n",
       "      <td>0</td>\n",
       "    </tr>\n",
       "  </tbody>\n",
       "</table>\n",
       "<p>527 rows × 29 columns</p>\n",
       "</div>"
      ],
      "text/plain": [
       "      Test temperature ($^\\circ$C)  YS (MPa)  Calculated Density (g/cm$^3$)  \\\n",
       "0                             25.0     158.0                            7.9   \n",
       "1                             25.0     346.0                            7.4   \n",
       "2                             25.0     794.0                            7.0   \n",
       "3                             25.0     964.0                            6.6   \n",
       "4                             25.0     204.0                            8.5   \n",
       "...                            ...       ...                            ...   \n",
       "1503                          25.0    1094.0                            9.9   \n",
       "1504                          25.0    1071.0                            9.9   \n",
       "1505                          25.0    1107.0                            9.9   \n",
       "1506                          25.0    1115.0                            9.9   \n",
       "1507                          25.0    1114.0                            9.9   \n",
       "\n",
       "      Young modulus_new (GPa)  A + HF  A + HR  AC  CR  CR + A  CR + A   ...  \\\n",
       "0                       196.0       0       0   1   0       0        0  ...   \n",
       "1                       187.0       0       0   1   0       0        0  ...   \n",
       "2                       179.0       0       0   1   0       0        0  ...   \n",
       "3                       173.0       0       0   1   0       0        0  ...   \n",
       "4                       207.0       0       0   1   0       0        0  ...   \n",
       "...                       ...     ...     ...  ..  ..     ...      ...  ...   \n",
       "1503                    107.0       0       0   0   0       0        0  ...   \n",
       "1504                    107.0       0       0   0   0       0        0  ...   \n",
       "1505                    107.0       0       0   0   0       0        0  ...   \n",
       "1506                    107.0       0       0   0   0       0        0  ...   \n",
       "1507                    107.0       0       0   0   0       0        0  ...   \n",
       "\n",
       "      HR + A  SPD  SPS  T  FCC  other  CAST  OTHER  POWDER  WROUGHT  \n",
       "0          0    0    0  0    1      0     1      0       0        0  \n",
       "1          0    0    0  0    0      1     1      0       0        0  \n",
       "2          0    0    0  0    0      1     1      0       0        0  \n",
       "3          0    0    0  0    0      0     1      0       0        0  \n",
       "4          0    0    0  0    1      0     1      0       0        0  \n",
       "...      ...  ...  ... ..  ...    ...   ...    ...     ...      ...  \n",
       "1503       0    0    0  1    0      0     0      1       0        0  \n",
       "1504       0    0    0  1    0      0     0      1       0        0  \n",
       "1505       0    0    0  1    0      0     0      1       0        0  \n",
       "1506       0    0    0  1    0      0     0      1       0        0  \n",
       "1507       0    0    0  1    0      0     0      1       0        0  \n",
       "\n",
       "[527 rows x 29 columns]"
      ]
     },
     "execution_count": 127,
     "metadata": {},
     "output_type": "execute_result"
    }
   ],
   "source": [
    "merged"
   ]
  },
  {
   "cell_type": "code",
   "execution_count": 128,
   "metadata": {},
   "outputs": [],
   "source": [
    "x = merged.drop([\"Young modulus_new (GPa)\"],axis=1) \n",
    "y = merged[\"Young modulus_new (GPa)\"]"
   ]
  },
  {
   "cell_type": "code",
   "execution_count": 129,
   "metadata": {},
   "outputs": [],
   "source": [
    "from sklearn.model_selection import train_test_split\n",
    "X_train, X_test, y_train, y_test = train_test_split(x,y,test_size = 0.05, random_state = 42)"
   ]
  },
  {
   "cell_type": "code",
   "execution_count": null,
   "metadata": {},
   "outputs": [],
   "source": []
  },
  {
   "cell_type": "markdown",
   "metadata": {},
   "source": [
    "# Random forest regressor"
   ]
  },
  {
   "cell_type": "code",
   "execution_count": 130,
   "metadata": {},
   "outputs": [
    {
     "data": {
      "text/plain": [
       "GridSearchCV(cv=10, estimator=RandomForestRegressor(n_jobs=-1),\n",
       "             param_grid=[{'bootstrap': [True, False],\n",
       "                          'max_depth': [10, 50, None], 'max_features': [5, 20],\n",
       "                          'n_estimators': [10, 100]}],\n",
       "             scoring='neg_mean_squared_error')"
      ]
     },
     "execution_count": 130,
     "metadata": {},
     "output_type": "execute_result"
    }
   ],
   "source": [
    "from sklearn.model_selection import GridSearchCV\n",
    "from sklearn.ensemble import RandomForestRegressor\n",
    "forest = RandomForestRegressor(n_jobs=-1)\n",
    "param_grid = [\n",
    "{'n_estimators': [10,100], 'max_features': [5, 20], \n",
    " 'max_depth': [10, 50, None], 'bootstrap': [True, False]}\n",
    "]\n",
    "\n",
    "grid_search_randomforest=GridSearchCV(forest, param_grid, cv=10, scoring='neg_mean_squared_error')\n",
    "grid_search_randomforest.fit(X_train, y_train)"
   ]
  },
  {
   "cell_type": "code",
   "execution_count": 131,
   "metadata": {},
   "outputs": [
    {
     "data": {
      "text/plain": [
       "RandomForestRegressor(max_features=20, n_jobs=-1)"
      ]
     },
     "execution_count": 131,
     "metadata": {},
     "output_type": "execute_result"
    }
   ],
   "source": [
    "grid_search_randomforest.best_estimator_"
   ]
  },
  {
   "cell_type": "code",
   "execution_count": 132,
   "metadata": {},
   "outputs": [],
   "source": [
    "randmf = RandomForestRegressor(random_state=42) \n",
    "randmf.fit( X_train, y_train) \n",
    "# Performance metrics\n",
    "grid_best= randmf.predict(X_train)"
   ]
  },
  {
   "cell_type": "code",
   "execution_count": 133,
   "metadata": {},
   "outputs": [
    {
     "name": "stdout",
     "output_type": "stream",
     "text": [
      "0.9725038923097906\n",
      "0.873701463623577\n"
     ]
    }
   ],
   "source": [
    "print(randmf.score(X_train,y_train))\n",
    "print(randmf.score(X_test,y_test))"
   ]
  },
  {
   "cell_type": "code",
   "execution_count": 178,
   "metadata": {},
   "outputs": [
    {
     "name": "stdout",
     "output_type": "stream",
     "text": [
      "      Test temperature ($^\\circ$C)  YS (MPa)  Calculated Density (g/cm$^3$)  \\\n",
      "794                           25.0     216.0                            8.0   \n",
      "1083                          25.0     401.0                            7.9   \n",
      "6                             25.0     196.0                            7.7   \n",
      "694                           25.0     249.0                            8.0   \n",
      "269                           25.0    1188.0                            9.5   \n",
      "771                           25.0    1300.0                            8.0   \n",
      "1507                          25.0    1114.0                            9.9   \n",
      "1484                        1000.0     814.0                            9.9   \n",
      "323                           25.0    1575.0                            8.7   \n",
      "1215                          20.0     860.0                           10.9   \n",
      "12                            25.0     170.0                            8.2   \n",
      "1490                        1200.0     404.0                           10.2   \n",
      "266                           25.0    1280.0                            6.8   \n",
      "1219                          20.0    1630.0                            7.6   \n",
      "413                          900.0     214.0                            6.3   \n",
      "494                         -153.0    1640.0                            8.4   \n",
      "2                             25.0     794.0                            7.0   \n",
      "1189                         200.0     378.0                           10.0   \n",
      "360                           25.0    1765.0                            7.6   \n",
      "354                           25.0    1289.0                            6.7   \n",
      "962                         1200.0     659.0                           11.0   \n",
      "1486                        1000.0     721.0                            8.7   \n",
      "1482                         800.0    1005.0                           10.9   \n",
      "980                           25.0     293.1                            8.0   \n",
      "967                         1200.0     102.0                            7.4   \n",
      "763                           25.0    1100.0                            8.3   \n",
      "414                          800.0     302.0                            6.3   \n",
      "\n",
      "      A + HF  A + HR  AC  CR  CR + A  CR + A   CR+A  ...  HR + A  SPD  SPS  T  \\\n",
      "794        0       0   1   0       0        0     0  ...       0    0    0  0   \n",
      "1083       0       0   0   0       1        0     0  ...       0    0    0  1   \n",
      "6          0       0   1   0       0        0     0  ...       0    0    0  0   \n",
      "694        0       0   0   0       0        0     0  ...       0    0    0  1   \n",
      "269        0       0   1   0       0        0     0  ...       0    0    0  0   \n",
      "771        0       0   0   0       1        0     0  ...       0    0    0  0   \n",
      "1507       0       0   0   0       0        0     0  ...       0    0    0  1   \n",
      "1484       0       0   1   0       0        0     0  ...       0    0    0  0   \n",
      "323        0       0   0   0       0        0     0  ...       0    0    0  0   \n",
      "1215       0       0   0   0       0        0     0  ...       0    0    0  0   \n",
      "12         0       0   0   1       0        0     0  ...       0    0    0  1   \n",
      "1490       0       0   1   0       0        0     0  ...       0    0    0  0   \n",
      "266        0       0   0   0       0        0     0  ...       0    0    0  0   \n",
      "1219       0       0   0   0       0        0     0  ...       0    0    0  0   \n",
      "413        0       0   1   0       0        0     0  ...       0    0    0  0   \n",
      "494        0       0   0   1       0        0     0  ...       0    0    0  0   \n",
      "2          0       0   1   0       0        0     0  ...       0    0    0  0   \n",
      "1189       0       0   0   0       0        1     0  ...       0    0    0  0   \n",
      "360        0       0   0   0       0        0     0  ...       0    0    0  0   \n",
      "354        0       0   0   0       0        0     0  ...       0    0    0  0   \n",
      "962        0       0   1   0       0        0     0  ...       0    0    0  0   \n",
      "1486       0       0   1   0       0        0     0  ...       0    0    0  0   \n",
      "1482       0       0   1   0       0        0     0  ...       0    0    0  0   \n",
      "980        0       0   0   0       0        0     0  ...       1    0    0  1   \n",
      "967        0       0   0   0       0        0     0  ...       0    0    0  0   \n",
      "763        0       0   0   0       1        0     0  ...       0    0    0  1   \n",
      "414        0       0   1   0       0        0     0  ...       0    0    0  0   \n",
      "\n",
      "      FCC  other  CAST  OTHER  POWDER  WROUGHT  \n",
      "794     1      0     1      0       0        0  \n",
      "1083    1      0     0      0       0        1  \n",
      "6       1      0     1      0       0        0  \n",
      "694     1      0     0      0       0        1  \n",
      "269     0      0     1      0       0        0  \n",
      "771     1      0     0      0       0        1  \n",
      "1507    0      0     0      1       0        0  \n",
      "1484    0      0     1      0       0        0  \n",
      "323     0      0     0      0       0        0  \n",
      "1215    0      0     0      0       0        0  \n",
      "12      1      0     0      0       0        1  \n",
      "1490    0      0     1      0       0        0  \n",
      "266     0      0     0      1       0        0  \n",
      "1219    0      0     0      0       0        0  \n",
      "413     0      0     1      0       0        0  \n",
      "494     0      0     0      0       0        1  \n",
      "2       0      1     1      0       0        0  \n",
      "1189    0      0     0      0       0        1  \n",
      "360     0      0     0      0       0        0  \n",
      "354     0      0     0      0       0        0  \n",
      "962     0      0     1      0       0        0  \n",
      "1486    0      0     1      0       0        0  \n",
      "1482    0      0     1      0       0        0  \n",
      "980     1      0     0      0       0        1  \n",
      "967     0      0     0      1       0        0  \n",
      "763     1      0     0      0       0        1  \n",
      "414     0      0     1      0       0        0  \n",
      "\n",
      "[27 rows x 28 columns]\n"
     ]
    }
   ],
   "source": [
    "tuned_pred=randmf.predict(X_test)\n",
    "print(X_test)"
   ]
  },
  {
   "cell_type": "code",
   "execution_count": 135,
   "metadata": {
    "scrolled": true
   },
   "outputs": [
    {
     "name": "stdout",
     "output_type": "stream",
     "text": [
      "MAE: 9.83747442680776\n",
      "MSE: 245.57563642600957\n",
      "RMSE: 15.670853085458033\n"
     ]
    }
   ],
   "source": [
    "from sklearn import metrics\n",
    "\n",
    "print('MAE:', metrics.mean_absolute_error(y_test,tuned_pred))\n",
    "print('MSE:', metrics.mean_squared_error(y_test, tuned_pred))\n",
    "print('RMSE:', np.sqrt(metrics.mean_squared_error(y_test, tuned_pred)))"
   ]
  },
  {
   "cell_type": "code",
   "execution_count": 136,
   "metadata": {},
   "outputs": [
    {
     "data": {
      "text/html": [
       "<div>\n",
       "<style scoped>\n",
       "    .dataframe tbody tr th:only-of-type {\n",
       "        vertical-align: middle;\n",
       "    }\n",
       "\n",
       "    .dataframe tbody tr th {\n",
       "        vertical-align: top;\n",
       "    }\n",
       "\n",
       "    .dataframe thead th {\n",
       "        text-align: right;\n",
       "    }\n",
       "</style>\n",
       "<table border=\"1\" class=\"dataframe\">\n",
       "  <thead>\n",
       "    <tr style=\"text-align: right;\">\n",
       "      <th></th>\n",
       "      <th>Actual</th>\n",
       "      <th>Predicted</th>\n",
       "    </tr>\n",
       "  </thead>\n",
       "  <tbody>\n",
       "    <tr>\n",
       "      <th>794</th>\n",
       "      <td>220.0</td>\n",
       "      <td>214.111667</td>\n",
       "    </tr>\n",
       "    <tr>\n",
       "      <th>1083</th>\n",
       "      <td>208.0</td>\n",
       "      <td>213.080000</td>\n",
       "    </tr>\n",
       "    <tr>\n",
       "      <th>6</th>\n",
       "      <td>194.0</td>\n",
       "      <td>203.060000</td>\n",
       "    </tr>\n",
       "    <tr>\n",
       "      <th>694</th>\n",
       "      <td>220.0</td>\n",
       "      <td>219.180000</td>\n",
       "    </tr>\n",
       "    <tr>\n",
       "      <th>269</th>\n",
       "      <td>105.0</td>\n",
       "      <td>151.604000</td>\n",
       "    </tr>\n",
       "    <tr>\n",
       "      <th>771</th>\n",
       "      <td>220.0</td>\n",
       "      <td>219.103333</td>\n",
       "    </tr>\n",
       "    <tr>\n",
       "      <th>1507</th>\n",
       "      <td>107.0</td>\n",
       "      <td>107.000000</td>\n",
       "    </tr>\n",
       "    <tr>\n",
       "      <th>1484</th>\n",
       "      <td>137.0</td>\n",
       "      <td>136.796000</td>\n",
       "    </tr>\n",
       "    <tr>\n",
       "      <th>323</th>\n",
       "      <td>128.0</td>\n",
       "      <td>130.236500</td>\n",
       "    </tr>\n",
       "    <tr>\n",
       "      <th>1215</th>\n",
       "      <td>119.0</td>\n",
       "      <td>129.880000</td>\n",
       "    </tr>\n",
       "    <tr>\n",
       "      <th>12</th>\n",
       "      <td>205.0</td>\n",
       "      <td>221.130000</td>\n",
       "    </tr>\n",
       "    <tr>\n",
       "      <th>1490</th>\n",
       "      <td>143.0</td>\n",
       "      <td>142.520000</td>\n",
       "    </tr>\n",
       "    <tr>\n",
       "      <th>266</th>\n",
       "      <td>106.0</td>\n",
       "      <td>108.062000</td>\n",
       "    </tr>\n",
       "    <tr>\n",
       "      <th>1219</th>\n",
       "      <td>196.0</td>\n",
       "      <td>163.322429</td>\n",
       "    </tr>\n",
       "    <tr>\n",
       "      <th>413</th>\n",
       "      <td>156.0</td>\n",
       "      <td>129.600000</td>\n",
       "    </tr>\n",
       "    <tr>\n",
       "      <th>494</th>\n",
       "      <td>100.0</td>\n",
       "      <td>100.062000</td>\n",
       "    </tr>\n",
       "    <tr>\n",
       "      <th>2</th>\n",
       "      <td>179.0</td>\n",
       "      <td>161.540000</td>\n",
       "    </tr>\n",
       "    <tr>\n",
       "      <th>1189</th>\n",
       "      <td>136.0</td>\n",
       "      <td>136.070000</td>\n",
       "    </tr>\n",
       "    <tr>\n",
       "      <th>360</th>\n",
       "      <td>169.0</td>\n",
       "      <td>161.821429</td>\n",
       "    </tr>\n",
       "    <tr>\n",
       "      <th>354</th>\n",
       "      <td>114.0</td>\n",
       "      <td>139.897000</td>\n",
       "    </tr>\n",
       "    <tr>\n",
       "      <th>962</th>\n",
       "      <td>209.0</td>\n",
       "      <td>212.380833</td>\n",
       "    </tr>\n",
       "    <tr>\n",
       "      <th>1486</th>\n",
       "      <td>128.0</td>\n",
       "      <td>130.351000</td>\n",
       "    </tr>\n",
       "    <tr>\n",
       "      <th>1482</th>\n",
       "      <td>141.0</td>\n",
       "      <td>142.640000</td>\n",
       "    </tr>\n",
       "    <tr>\n",
       "      <th>980</th>\n",
       "      <td>220.0</td>\n",
       "      <td>219.376667</td>\n",
       "    </tr>\n",
       "    <tr>\n",
       "      <th>967</th>\n",
       "      <td>101.0</td>\n",
       "      <td>122.170000</td>\n",
       "    </tr>\n",
       "    <tr>\n",
       "      <th>763</th>\n",
       "      <td>231.0</td>\n",
       "      <td>230.450000</td>\n",
       "    </tr>\n",
       "    <tr>\n",
       "      <th>414</th>\n",
       "      <td>156.0</td>\n",
       "      <td>130.190000</td>\n",
       "    </tr>\n",
       "  </tbody>\n",
       "</table>\n",
       "</div>"
      ],
      "text/plain": [
       "      Actual   Predicted\n",
       "794    220.0  214.111667\n",
       "1083   208.0  213.080000\n",
       "6      194.0  203.060000\n",
       "694    220.0  219.180000\n",
       "269    105.0  151.604000\n",
       "771    220.0  219.103333\n",
       "1507   107.0  107.000000\n",
       "1484   137.0  136.796000\n",
       "323    128.0  130.236500\n",
       "1215   119.0  129.880000\n",
       "12     205.0  221.130000\n",
       "1490   143.0  142.520000\n",
       "266    106.0  108.062000\n",
       "1219   196.0  163.322429\n",
       "413    156.0  129.600000\n",
       "494    100.0  100.062000\n",
       "2      179.0  161.540000\n",
       "1189   136.0  136.070000\n",
       "360    169.0  161.821429\n",
       "354    114.0  139.897000\n",
       "962    209.0  212.380833\n",
       "1486   128.0  130.351000\n",
       "1482   141.0  142.640000\n",
       "980    220.0  219.376667\n",
       "967    101.0  122.170000\n",
       "763    231.0  230.450000\n",
       "414    156.0  130.190000"
      ]
     },
     "execution_count": 136,
     "metadata": {},
     "output_type": "execute_result"
    }
   ],
   "source": [
    "df_line=pd.DataFrame({'Actual':y_test, 'Predicted':tuned_pred})\n",
    "df_line"
   ]
  },
  {
   "cell_type": "code",
   "execution_count": 137,
   "metadata": {},
   "outputs": [
    {
     "data": {
      "image/png": "[encoded data removed]",
      "text/plain": [
       "<Figure size 360x504 with 1 Axes>"
      ]
     },
     "metadata": {
      "needs_background": "light"
     },
     "output_type": "display_data"
    }
   ],
   "source": [
    "import seaborn as sns\n",
    "plt.figure(figsize=(5, 7))\n",
    "ax=sns.distplot(y, hist=False, color=\"r\", label=\"Actual Value\")\n",
    "sns.distplot(tuned_pred, hist=False, color=\"b\", label=\"Fitted Values\" , ax=ax)\n",
    "plt.title('Actual vs Fitted Values for Young modulus_new (GPa)')\n",
    "plt.show()\n",
    "plt.close()"
   ]
  },
  {
   "cell_type": "code",
   "execution_count": null,
   "metadata": {},
   "outputs": [],
   "source": []
  },
  {
   "cell_type": "markdown",
   "metadata": {},
   "source": [
    "# GRADIENT BOOSTING REGRESSOR"
   ]
  },
  {
   "cell_type": "code",
   "execution_count": 138,
   "metadata": {},
   "outputs": [],
   "source": [
    "from sklearn.model_selection import GridSearchCV\n",
    "from sklearn.ensemble import GradientBoostingRegressor"
   ]
  },
  {
   "cell_type": "code",
   "execution_count": 139,
   "metadata": {},
   "outputs": [
    {
     "name": "stdout",
     "output_type": "stream",
     "text": [
      "Best hyperparameters: {'learning_rate': 0.01, 'max_depth': 4, 'min_samples_leaf': 3}\n"
     ]
    }
   ],
   "source": [
    "param_grid = {'learning_rate': [0.1, 0.01, 0.001],\n",
    "              'max_depth': [4, 6],\n",
    "              'min_samples_leaf': [3, 5] \n",
    "            }\n",
    "\n",
    "est = GradientBoostingRegressor(n_estimators=3000)\n",
    "# this may take some minutes\n",
    "gs_cv = GridSearchCV(est, param_grid, scoring='neg_mean_squared_error', n_jobs=4).fit(X_train, y_train)\n",
    "\n",
    "# best hyperparameter setting\n",
    "print('Best hyperparameters: %r' % gs_cv.best_params_)"
   ]
  },
  {
   "cell_type": "code",
   "execution_count": 140,
   "metadata": {},
   "outputs": [
    {
     "data": {
      "text/plain": [
       "GradientBoostingRegressor(learning_rate=0.01, max_depth=4, min_samples_leaf=3,\n",
       "                          n_estimators=3000)"
      ]
     },
     "execution_count": 140,
     "metadata": {},
     "output_type": "execute_result"
    }
   ],
   "source": [
    "est.set_params(**gs_cv.best_params_)\n",
    "est.fit(X_train, y_train)"
   ]
  },
  {
   "cell_type": "code",
   "execution_count": 141,
   "metadata": {},
   "outputs": [
    {
     "name": "stdout",
     "output_type": "stream",
     "text": [
      "0.9784679586762351\n",
      "0.7851918682919335\n"
     ]
    }
   ],
   "source": [
    "print(est.score(X_train,y_train))\n",
    "\n",
    "print(est.score(X_test,y_test))"
   ]
  },
  {
   "cell_type": "code",
   "execution_count": 179,
   "metadata": {},
   "outputs": [
    {
     "name": "stdout",
     "output_type": "stream",
     "text": [
      "      Test temperature ($^\\circ$C)  YS (MPa)  Calculated Density (g/cm$^3$)  \\\n",
      "794                           25.0     216.0                            8.0   \n",
      "1083                          25.0     401.0                            7.9   \n",
      "6                             25.0     196.0                            7.7   \n",
      "694                           25.0     249.0                            8.0   \n",
      "269                           25.0    1188.0                            9.5   \n",
      "771                           25.0    1300.0                            8.0   \n",
      "1507                          25.0    1114.0                            9.9   \n",
      "1484                        1000.0     814.0                            9.9   \n",
      "323                           25.0    1575.0                            8.7   \n",
      "1215                          20.0     860.0                           10.9   \n",
      "12                            25.0     170.0                            8.2   \n",
      "1490                        1200.0     404.0                           10.2   \n",
      "266                           25.0    1280.0                            6.8   \n",
      "1219                          20.0    1630.0                            7.6   \n",
      "413                          900.0     214.0                            6.3   \n",
      "494                         -153.0    1640.0                            8.4   \n",
      "2                             25.0     794.0                            7.0   \n",
      "1189                         200.0     378.0                           10.0   \n",
      "360                           25.0    1765.0                            7.6   \n",
      "354                           25.0    1289.0                            6.7   \n",
      "962                         1200.0     659.0                           11.0   \n",
      "1486                        1000.0     721.0                            8.7   \n",
      "1482                         800.0    1005.0                           10.9   \n",
      "980                           25.0     293.1                            8.0   \n",
      "967                         1200.0     102.0                            7.4   \n",
      "763                           25.0    1100.0                            8.3   \n",
      "414                          800.0     302.0                            6.3   \n",
      "\n",
      "      A + HF  A + HR  AC  CR  CR + A  CR + A   CR+A  ...  HR + A  SPD  SPS  T  \\\n",
      "794        0       0   1   0       0        0     0  ...       0    0    0  0   \n",
      "1083       0       0   0   0       1        0     0  ...       0    0    0  1   \n",
      "6          0       0   1   0       0        0     0  ...       0    0    0  0   \n",
      "694        0       0   0   0       0        0     0  ...       0    0    0  1   \n",
      "269        0       0   1   0       0        0     0  ...       0    0    0  0   \n",
      "771        0       0   0   0       1        0     0  ...       0    0    0  0   \n",
      "1507       0       0   0   0       0        0     0  ...       0    0    0  1   \n",
      "1484       0       0   1   0       0        0     0  ...       0    0    0  0   \n",
      "323        0       0   0   0       0        0     0  ...       0    0    0  0   \n",
      "1215       0       0   0   0       0        0     0  ...       0    0    0  0   \n",
      "12         0       0   0   1       0        0     0  ...       0    0    0  1   \n",
      "1490       0       0   1   0       0        0     0  ...       0    0    0  0   \n",
      "266        0       0   0   0       0        0     0  ...       0    0    0  0   \n",
      "1219       0       0   0   0       0        0     0  ...       0    0    0  0   \n",
      "413        0       0   1   0       0        0     0  ...       0    0    0  0   \n",
      "494        0       0   0   1       0        0     0  ...       0    0    0  0   \n",
      "2          0       0   1   0       0        0     0  ...       0    0    0  0   \n",
      "1189       0       0   0   0       0        1     0  ...       0    0    0  0   \n",
      "360        0       0   0   0       0        0     0  ...       0    0    0  0   \n",
      "354        0       0   0   0       0        0     0  ...       0    0    0  0   \n",
      "962        0       0   1   0       0        0     0  ...       0    0    0  0   \n",
      "1486       0       0   1   0       0        0     0  ...       0    0    0  0   \n",
      "1482       0       0   1   0       0        0     0  ...       0    0    0  0   \n",
      "980        0       0   0   0       0        0     0  ...       1    0    0  1   \n",
      "967        0       0   0   0       0        0     0  ...       0    0    0  0   \n",
      "763        0       0   0   0       1        0     0  ...       0    0    0  1   \n",
      "414        0       0   1   0       0        0     0  ...       0    0    0  0   \n",
      "\n",
      "      FCC  other  CAST  OTHER  POWDER  WROUGHT  \n",
      "794     1      0     1      0       0        0  \n",
      "1083    1      0     0      0       0        1  \n",
      "6       1      0     1      0       0        0  \n",
      "694     1      0     0      0       0        1  \n",
      "269     0      0     1      0       0        0  \n",
      "771     1      0     0      0       0        1  \n",
      "1507    0      0     0      1       0        0  \n",
      "1484    0      0     1      0       0        0  \n",
      "323     0      0     0      0       0        0  \n",
      "1215    0      0     0      0       0        0  \n",
      "12      1      0     0      0       0        1  \n",
      "1490    0      0     1      0       0        0  \n",
      "266     0      0     0      1       0        0  \n",
      "1219    0      0     0      0       0        0  \n",
      "413     0      0     1      0       0        0  \n",
      "494     0      0     0      0       0        1  \n",
      "2       0      1     1      0       0        0  \n",
      "1189    0      0     0      0       0        1  \n",
      "360     0      0     0      0       0        0  \n",
      "354     0      0     0      0       0        0  \n",
      "962     0      0     1      0       0        0  \n",
      "1486    0      0     1      0       0        0  \n",
      "1482    0      0     1      0       0        0  \n",
      "980     1      0     0      0       0        1  \n",
      "967     0      0     0      1       0        0  \n",
      "763     1      0     0      0       0        1  \n",
      "414     0      0     1      0       0        0  \n",
      "\n",
      "[27 rows x 28 columns]\n"
     ]
    }
   ],
   "source": [
    "tuned_pred1=est.predict(X_test)\n",
    "print(X_test)"
   ]
  },
  {
   "cell_type": "code",
   "execution_count": 143,
   "metadata": {},
   "outputs": [
    {
     "name": "stdout",
     "output_type": "stream",
     "text": [
      "MAE: 12.915104113629557\n",
      "MSE: 417.67422780314996\n",
      "RMSE: 20.437079727865964\n"
     ]
    }
   ],
   "source": [
    "from sklearn import metrics\n",
    "\n",
    "print('MAE:', metrics.mean_absolute_error(y_test,tuned_pred1))\n",
    "print('MSE:', metrics.mean_squared_error(y_test, tuned_pred1))\n",
    "print('RMSE:', np.sqrt(metrics.mean_squared_error(y_test, tuned_pred1)))"
   ]
  },
  {
   "cell_type": "code",
   "execution_count": null,
   "metadata": {},
   "outputs": [],
   "source": []
  },
  {
   "cell_type": "code",
   "execution_count": null,
   "metadata": {},
   "outputs": [],
   "source": []
  },
  {
   "cell_type": "code",
   "execution_count": null,
   "metadata": {},
   "outputs": [],
   "source": []
  },
  {
   "cell_type": "code",
   "execution_count": null,
   "metadata": {},
   "outputs": [],
   "source": []
  },
  {
   "cell_type": "code",
   "execution_count": null,
   "metadata": {},
   "outputs": [],
   "source": []
  },
  {
   "cell_type": "code",
   "execution_count": null,
   "metadata": {},
   "outputs": [],
   "source": []
  },
  {
   "cell_type": "code",
   "execution_count": null,
   "metadata": {},
   "outputs": [],
   "source": []
  },
  {
   "cell_type": "markdown",
   "metadata": {},
   "source": [
    "# KNN"
   ]
  },
  {
   "cell_type": "code",
   "execution_count": 144,
   "metadata": {},
   "outputs": [],
   "source": [
    "from sklearn.model_selection import train_test_split\n",
    "train , test = train_test_split(merged, test_size = 0.05)\n",
    "\n",
    "x_train01 = train.drop('Young modulus_new (GPa)', axis=1)\n",
    "y_train01 = train['Young modulus_new (GPa)']\n",
    "\n",
    "x_test01 = test.drop('Young modulus_new (GPa)', axis = 1)\n",
    "y_test01 = test['Young modulus_new (GPa)']"
   ]
  },
  {
   "cell_type": "code",
   "execution_count": 145,
   "metadata": {},
   "outputs": [],
   "source": [
    "from sklearn.preprocessing import MinMaxScaler\n",
    "scaler = MinMaxScaler(feature_range=(0, 1))\n",
    "\n",
    "x_train_scaled = scaler.fit_transform(x_train01)\n",
    "x_train01 = pd.DataFrame(x_train_scaled)\n",
    "\n",
    "x_test_scaled = scaler.fit_transform(x_test01)\n",
    "x_test01= pd.DataFrame(x_test_scaled)"
   ]
  },
  {
   "cell_type": "code",
   "execution_count": 146,
   "metadata": {},
   "outputs": [],
   "source": [
    "from sklearn import neighbors\n",
    "from sklearn.metrics import mean_squared_error \n",
    "from math import sqrt\n",
    "import matplotlib.pyplot as plt\n",
    "%matplotlib inline"
   ]
  },
  {
   "cell_type": "code",
   "execution_count": 147,
   "metadata": {},
   "outputs": [
    {
     "name": "stdout",
     "output_type": "stream",
     "text": [
      "RMSE value for k=  1 is: 38.39264011258948\n",
      "RMSE value for k=  2 is: 33.037913125736374\n",
      "RMSE value for k=  3 is: 28.280233466827525\n",
      "RMSE value for k=  4 is: 26.872161779501546\n",
      "RMSE value for k=  5 is: 25.53360197131673\n",
      "RMSE value for k=  6 is: 25.453369169082766\n",
      "RMSE value for k=  7 is: 26.200854220898254\n",
      "RMSE value for k=  8 is: 25.954272131927496\n",
      "RMSE value for k=  9 is: 26.44734958278949\n",
      "RMSE value for k=  10 is: 27.09927496638432\n",
      "RMSE value for k=  11 is: 27.28277845088363\n",
      "RMSE value for k=  12 is: 28.58364818240733\n",
      "RMSE value for k=  13 is: 28.215547453913445\n",
      "RMSE value for k=  14 is: 27.775136144233173\n",
      "RMSE value for k=  15 is: 28.46652464763487\n",
      "RMSE value for k=  16 is: 27.951695659117128\n",
      "RMSE value for k=  17 is: 28.20670252634948\n",
      "RMSE value for k=  18 is: 28.55668888161083\n",
      "RMSE value for k=  19 is: 28.244993382451348\n",
      "RMSE value for k=  20 is: 28.968369627731708\n"
     ]
    }
   ],
   "source": [
    "rmse_val = [] \n",
    "for K in range(20):\n",
    "    K = K+1\n",
    "    model = neighbors.KNeighborsRegressor(n_neighbors = K)\n",
    "\n",
    "    model.fit(x_train01, y_train01)  \n",
    "    pred=model.predict(x_test01) \n",
    "    error = sqrt(mean_squared_error(y_test01,pred))\n",
    "    rmse_val.append(error) \n",
    "    print('RMSE value for k= ' , K , 'is:', error)"
   ]
  },
  {
   "cell_type": "code",
   "execution_count": 148,
   "metadata": {},
   "outputs": [
    {
     "data": {
      "text/plain": [
       "<matplotlib.axes._subplots.AxesSubplot at 0x271c71a7b50>"
      ]
     },
     "execution_count": 148,
     "metadata": {},
     "output_type": "execute_result"
    },
    {
     "data": {
      "image/png": "[encoded data removed]",
      "text/plain": [
       "<Figure size 432x288 with 1 Axes>"
      ]
     },
     "metadata": {
      "needs_background": "light"
     },
     "output_type": "display_data"
    }
   ],
   "source": [
    "curve = pd.DataFrame(rmse_val) #elbow curve \n",
    "curve.plot()"
   ]
  },
  {
   "cell_type": "code",
   "execution_count": 149,
   "metadata": {},
   "outputs": [
    {
     "data": {
      "text/plain": [
       "{'n_neighbors': 3}"
      ]
     },
     "execution_count": 149,
     "metadata": {},
     "output_type": "execute_result"
    }
   ],
   "source": [
    "from sklearn.model_selection import GridSearchCV\n",
    "params = {'n_neighbors':[2,3,4,5,6,7,8,9]}\n",
    "\n",
    "knn = neighbors.KNeighborsRegressor()\n",
    "\n",
    "model = GridSearchCV(knn, params, cv=5)\n",
    "model.fit(x_train01,y_train01)\n",
    "model.best_params_"
   ]
  },
  {
   "cell_type": "code",
   "execution_count": 150,
   "metadata": {},
   "outputs": [],
   "source": [
    "model_withk3 = neighbors.KNeighborsRegressor(n_neighbors = 5)"
   ]
  },
  {
   "cell_type": "code",
   "execution_count": 151,
   "metadata": {},
   "outputs": [],
   "source": [
    "model_withk3.fit(x_train01, y_train01)  \n",
    "pred_withk3=model.predict(x_test01)"
   ]
  },
  {
   "cell_type": "code",
   "execution_count": 152,
   "metadata": {},
   "outputs": [
    {
     "name": "stdout",
     "output_type": "stream",
     "text": [
      "MAE: 18.27407407407407\n",
      "MSE: 799.7716049382715\n",
      "RMSE: 28.280233466827525\n"
     ]
    }
   ],
   "source": [
    "from sklearn import metrics\n",
    "\n",
    "print('MAE:', metrics.mean_absolute_error(y_test01,pred_withk3))\n",
    "print('MSE:', metrics.mean_squared_error(y_test01,pred_withk3))\n",
    "print('RMSE:', np.sqrt(metrics.mean_squared_error(y_test01,pred_withk3)))"
   ]
  },
  {
   "cell_type": "code",
   "execution_count": 153,
   "metadata": {},
   "outputs": [
    {
     "name": "stdout",
     "output_type": "stream",
     "text": [
      "0.8411860894077305\n",
      "0.6850064651956075\n"
     ]
    }
   ],
   "source": [
    "print(model_withk3.score(x_train01,y_train01))\n",
    "print(model_withk3.score(x_test01,y_test01))"
   ]
  },
  {
   "cell_type": "code",
   "execution_count": null,
   "metadata": {},
   "outputs": [],
   "source": []
  },
  {
   "cell_type": "code",
   "execution_count": null,
   "metadata": {},
   "outputs": [],
   "source": []
  },
  {
   "cell_type": "code",
   "execution_count": null,
   "metadata": {},
   "outputs": [],
   "source": []
  },
  {
   "cell_type": "code",
   "execution_count": null,
   "metadata": {},
   "outputs": [],
   "source": []
  },
  {
   "cell_type": "code",
   "execution_count": null,
   "metadata": {},
   "outputs": [],
   "source": []
  },
  {
   "cell_type": "code",
   "execution_count": null,
   "metadata": {},
   "outputs": [],
   "source": []
  },
  {
   "cell_type": "code",
   "execution_count": null,
   "metadata": {},
   "outputs": [],
   "source": []
  },
  {
   "cell_type": "code",
   "execution_count": null,
   "metadata": {},
   "outputs": [],
   "source": []
  },
  {
   "cell_type": "code",
   "execution_count": null,
   "metadata": {},
   "outputs": [],
   "source": []
  },
  {
   "cell_type": "code",
   "execution_count": 154,
   "metadata": {},
   "outputs": [
    {
     "data": {
      "text/plain": [
       "<matplotlib.axes._subplots.AxesSubplot at 0x271c71ed8e0>"
      ]
     },
     "execution_count": 154,
     "metadata": {},
     "output_type": "execute_result"
    },
    {
     "data": {
      "image/png": "[encoded data removed]",
      "text/plain": [
       "<Figure size 432x288 with 1 Axes>"
      ]
     },
     "metadata": {
      "needs_background": "light"
     },
     "output_type": "display_data"
    }
   ],
   "source": [
    "df1.boxplot(column='Young modulus_new (GPa)', return_type='axes')"
   ]
  },
  {
   "cell_type": "code",
   "execution_count": 155,
   "metadata": {},
   "outputs": [
    {
     "data": {
      "text/plain": [
       "<matplotlib.axes._subplots.AxesSubplot at 0x271c723e670>"
      ]
     },
     "execution_count": 155,
     "metadata": {},
     "output_type": "execute_result"
    },
    {
     "data": {
      "image/png": "[encoded data removed]",
      "text/plain": [
       "<Figure size 432x288 with 1 Axes>"
      ]
     },
     "metadata": {
      "needs_background": "light"
     },
     "output_type": "display_data"
    }
   ],
   "source": [
    "df1.boxplot(column='YS (MPa)', return_type='axes')"
   ]
  },
  {
   "cell_type": "code",
   "execution_count": 156,
   "metadata": {},
   "outputs": [
    {
     "data": {
      "text/plain": [
       "<matplotlib.axes._subplots.AxesSubplot at 0x271c71fde20>"
      ]
     },
     "execution_count": 156,
     "metadata": {},
     "output_type": "execute_result"
    },
    {
     "data": {
      "image/png": "[encoded data removed]",
      "text/plain": [
       "<Figure size 432x288 with 1 Axes>"
      ]
     },
     "metadata": {
      "needs_background": "light"
     },
     "output_type": "display_data"
    }
   ],
   "source": [
    "df1.boxplot(column='Test temperature ($^\\circ$C)', return_type='axes')"
   ]
  },
  {
   "cell_type": "code",
   "execution_count": 157,
   "metadata": {},
   "outputs": [
    {
     "data": {
      "text/plain": [
       "<matplotlib.axes._subplots.AxesSubplot at 0x271c70472e0>"
      ]
     },
     "execution_count": 157,
     "metadata": {},
     "output_type": "execute_result"
    },
    {
     "data": {
      "image/png": "[encoded data removed]",
      "text/plain": [
       "<Figure size 432x288 with 1 Axes>"
      ]
     },
     "metadata": {
      "needs_background": "light"
     },
     "output_type": "display_data"
    }
   ],
   "source": [
    "df1.boxplot(column='Calculated Density (g/cm$^3$)', return_type='axes')"
   ]
  },
  {
   "cell_type": "code",
   "execution_count": null,
   "metadata": {},
   "outputs": [],
   "source": []
  },
  {
   "cell_type": "code",
   "execution_count": 158,
   "metadata": {},
   "outputs": [],
   "source": [
    "def remove_outlier(df_in, col_name):\n",
    "    q1 = df_in[col_name].quantile(0.25)\n",
    "    q3 = df_in[col_name].quantile(0.75)\n",
    "    iqr = q3-q1 #Interquartile range\n",
    "    fence_low  = q1-1.5*iqr\n",
    "    fence_high = q3+1.5*iqr\n",
    "    df_out = df_in.loc[(df_in[col_name] > fence_low) & (df_in[col_name] < fence_high)]\n",
    "    return df_out"
   ]
  },
  {
   "cell_type": "code",
   "execution_count": 159,
   "metadata": {},
   "outputs": [],
   "source": [
    "df2=remove_outlier(df1,'YS (MPa)')"
   ]
  },
  {
   "cell_type": "code",
   "execution_count": 160,
   "metadata": {},
   "outputs": [
    {
     "name": "stdout",
     "output_type": "stream",
     "text": [
      "<class 'pandas.core.frame.DataFrame'>\n",
      "Int64Index: 553 entries, 0 to 1507\n",
      "Data columns (total 8 columns):\n",
      " #   Column                         Non-Null Count  Dtype  \n",
      "---  ------                         --------------  -----  \n",
      " 0   synthesis method               553 non-null    object \n",
      " 1   Type of test                   553 non-null    object \n",
      " 2   Test temperature ($^\\circ$C)   553 non-null    float64\n",
      " 3   YS (MPa)                       553 non-null    float64\n",
      " 4   BCC/FCC/other                  553 non-null    object \n",
      " 5   Processing method              553 non-null    object \n",
      " 6   Calculated Density (g/cm$^3$)  553 non-null    float64\n",
      " 7   Young modulus_new (GPa)        553 non-null    float64\n",
      "dtypes: float64(4), object(4)\n",
      "memory usage: 38.9+ KB\n"
     ]
    }
   ],
   "source": [
    "df2.info()"
   ]
  },
  {
   "cell_type": "code",
   "execution_count": 161,
   "metadata": {},
   "outputs": [
    {
     "data": {
      "text/plain": [
       "<matplotlib.axes._subplots.AxesSubplot at 0x271c75f80a0>"
      ]
     },
     "execution_count": 161,
     "metadata": {},
     "output_type": "execute_result"
    },
    {
     "data": {
      "image/png": "[encoded data removed]",
      "text/plain": [
       "<Figure size 432x288 with 1 Axes>"
      ]
     },
     "metadata": {
      "needs_background": "light"
     },
     "output_type": "display_data"
    }
   ],
   "source": [
    "df2.boxplot(column='Calculated Density (g/cm$^3$)', return_type='axes')"
   ]
  },
  {
   "cell_type": "code",
   "execution_count": 162,
   "metadata": {},
   "outputs": [],
   "source": [
    "df3=remove_outlier(df2,'Calculated Density (g/cm$^3$)')"
   ]
  },
  {
   "cell_type": "code",
   "execution_count": 163,
   "metadata": {},
   "outputs": [
    {
     "data": {
      "text/html": [
       "<div>\n",
       "<style scoped>\n",
       "    .dataframe tbody tr th:only-of-type {\n",
       "        vertical-align: middle;\n",
       "    }\n",
       "\n",
       "    .dataframe tbody tr th {\n",
       "        vertical-align: top;\n",
       "    }\n",
       "\n",
       "    .dataframe thead th {\n",
       "        text-align: right;\n",
       "    }\n",
       "</style>\n",
       "<table border=\"1\" class=\"dataframe\">\n",
       "  <thead>\n",
       "    <tr style=\"text-align: right;\">\n",
       "      <th></th>\n",
       "      <th>synthesis method</th>\n",
       "      <th>Type of test</th>\n",
       "      <th>Test temperature ($^\\circ$C)</th>\n",
       "      <th>YS (MPa)</th>\n",
       "      <th>BCC/FCC/other</th>\n",
       "      <th>Processing method</th>\n",
       "      <th>Calculated Density (g/cm$^3$)</th>\n",
       "      <th>Young modulus_new (GPa)</th>\n",
       "    </tr>\n",
       "  </thead>\n",
       "  <tbody>\n",
       "    <tr>\n",
       "      <th>0</th>\n",
       "      <td>AC</td>\n",
       "      <td>C</td>\n",
       "      <td>25.0</td>\n",
       "      <td>158.0</td>\n",
       "      <td>FCC</td>\n",
       "      <td>CAST</td>\n",
       "      <td>7.9</td>\n",
       "      <td>196.0</td>\n",
       "    </tr>\n",
       "    <tr>\n",
       "      <th>1</th>\n",
       "      <td>AC</td>\n",
       "      <td>C</td>\n",
       "      <td>25.0</td>\n",
       "      <td>346.0</td>\n",
       "      <td>other</td>\n",
       "      <td>CAST</td>\n",
       "      <td>7.4</td>\n",
       "      <td>187.0</td>\n",
       "    </tr>\n",
       "    <tr>\n",
       "      <th>2</th>\n",
       "      <td>AC</td>\n",
       "      <td>C</td>\n",
       "      <td>25.0</td>\n",
       "      <td>794.0</td>\n",
       "      <td>other</td>\n",
       "      <td>CAST</td>\n",
       "      <td>7.0</td>\n",
       "      <td>179.0</td>\n",
       "    </tr>\n",
       "    <tr>\n",
       "      <th>3</th>\n",
       "      <td>AC</td>\n",
       "      <td>C</td>\n",
       "      <td>25.0</td>\n",
       "      <td>964.0</td>\n",
       "      <td>BCC</td>\n",
       "      <td>CAST</td>\n",
       "      <td>6.6</td>\n",
       "      <td>173.0</td>\n",
       "    </tr>\n",
       "    <tr>\n",
       "      <th>4</th>\n",
       "      <td>AC</td>\n",
       "      <td>C</td>\n",
       "      <td>25.0</td>\n",
       "      <td>204.0</td>\n",
       "      <td>FCC</td>\n",
       "      <td>CAST</td>\n",
       "      <td>8.5</td>\n",
       "      <td>207.0</td>\n",
       "    </tr>\n",
       "    <tr>\n",
       "      <th>...</th>\n",
       "      <td>...</td>\n",
       "      <td>...</td>\n",
       "      <td>...</td>\n",
       "      <td>...</td>\n",
       "      <td>...</td>\n",
       "      <td>...</td>\n",
       "      <td>...</td>\n",
       "      <td>...</td>\n",
       "    </tr>\n",
       "    <tr>\n",
       "      <th>1503</th>\n",
       "      <td>HIP + CR + A</td>\n",
       "      <td>T</td>\n",
       "      <td>25.0</td>\n",
       "      <td>1094.0</td>\n",
       "      <td>BCC</td>\n",
       "      <td>OTHER</td>\n",
       "      <td>9.9</td>\n",
       "      <td>107.0</td>\n",
       "    </tr>\n",
       "    <tr>\n",
       "      <th>1504</th>\n",
       "      <td>HIP + CR + A</td>\n",
       "      <td>T</td>\n",
       "      <td>25.0</td>\n",
       "      <td>1071.0</td>\n",
       "      <td>BCC</td>\n",
       "      <td>OTHER</td>\n",
       "      <td>9.9</td>\n",
       "      <td>107.0</td>\n",
       "    </tr>\n",
       "    <tr>\n",
       "      <th>1505</th>\n",
       "      <td>HIP + CR + A</td>\n",
       "      <td>T</td>\n",
       "      <td>25.0</td>\n",
       "      <td>1107.0</td>\n",
       "      <td>BCC</td>\n",
       "      <td>OTHER</td>\n",
       "      <td>9.9</td>\n",
       "      <td>107.0</td>\n",
       "    </tr>\n",
       "    <tr>\n",
       "      <th>1506</th>\n",
       "      <td>HIP + CR + A</td>\n",
       "      <td>T</td>\n",
       "      <td>25.0</td>\n",
       "      <td>1115.0</td>\n",
       "      <td>BCC</td>\n",
       "      <td>OTHER</td>\n",
       "      <td>9.9</td>\n",
       "      <td>107.0</td>\n",
       "    </tr>\n",
       "    <tr>\n",
       "      <th>1507</th>\n",
       "      <td>HIP + CR + A</td>\n",
       "      <td>T</td>\n",
       "      <td>25.0</td>\n",
       "      <td>1114.0</td>\n",
       "      <td>BCC</td>\n",
       "      <td>OTHER</td>\n",
       "      <td>9.9</td>\n",
       "      <td>107.0</td>\n",
       "    </tr>\n",
       "  </tbody>\n",
       "</table>\n",
       "<p>549 rows × 8 columns</p>\n",
       "</div>"
      ],
      "text/plain": [
       "     synthesis method Type of test  Test temperature ($^\\circ$C)  YS (MPa)  \\\n",
       "0                  AC            C                          25.0     158.0   \n",
       "1                  AC            C                          25.0     346.0   \n",
       "2                  AC            C                          25.0     794.0   \n",
       "3                  AC            C                          25.0     964.0   \n",
       "4                  AC            C                          25.0     204.0   \n",
       "...               ...          ...                           ...       ...   \n",
       "1503     HIP + CR + A            T                          25.0    1094.0   \n",
       "1504     HIP + CR + A            T                          25.0    1071.0   \n",
       "1505     HIP + CR + A            T                          25.0    1107.0   \n",
       "1506     HIP + CR + A            T                          25.0    1115.0   \n",
       "1507     HIP + CR + A            T                          25.0    1114.0   \n",
       "\n",
       "     BCC/FCC/other Processing method  Calculated Density (g/cm$^3$)  \\\n",
       "0              FCC              CAST                            7.9   \n",
       "1            other              CAST                            7.4   \n",
       "2            other              CAST                            7.0   \n",
       "3              BCC              CAST                            6.6   \n",
       "4              FCC              CAST                            8.5   \n",
       "...            ...               ...                            ...   \n",
       "1503           BCC             OTHER                            9.9   \n",
       "1504           BCC             OTHER                            9.9   \n",
       "1505           BCC             OTHER                            9.9   \n",
       "1506           BCC             OTHER                            9.9   \n",
       "1507           BCC             OTHER                            9.9   \n",
       "\n",
       "      Young modulus_new (GPa)  \n",
       "0                       196.0  \n",
       "1                       187.0  \n",
       "2                       179.0  \n",
       "3                       173.0  \n",
       "4                       207.0  \n",
       "...                       ...  \n",
       "1503                    107.0  \n",
       "1504                    107.0  \n",
       "1505                    107.0  \n",
       "1506                    107.0  \n",
       "1507                    107.0  \n",
       "\n",
       "[549 rows x 8 columns]"
      ]
     },
     "execution_count": 163,
     "metadata": {},
     "output_type": "execute_result"
    }
   ],
   "source": [
    "df3"
   ]
  },
  {
   "cell_type": "code",
   "execution_count": 164,
   "metadata": {},
   "outputs": [
    {
     "data": {
      "text/plain": [
       "<matplotlib.axes._subplots.AxesSubplot at 0x271c71c56a0>"
      ]
     },
     "execution_count": 164,
     "metadata": {},
     "output_type": "execute_result"
    },
    {
     "data": {
      "image/png": "[encoded data removed]",
      "text/plain": [
       "<Figure size 432x288 with 1 Axes>"
      ]
     },
     "metadata": {
      "needs_background": "light"
     },
     "output_type": "display_data"
    }
   ],
   "source": [
    "df3.boxplot(column='Test temperature ($^\\circ$C)', return_type='axes')"
   ]
  },
  {
   "cell_type": "code",
   "execution_count": 165,
   "metadata": {},
   "outputs": [],
   "source": [
    "df4=remove_outlier(df2,'Test temperature ($^\\circ$C)')"
   ]
  },
  {
   "cell_type": "code",
   "execution_count": 166,
   "metadata": {
    "scrolled": true
   },
   "outputs": [
    {
     "name": "stdout",
     "output_type": "stream",
     "text": [
      "<class 'pandas.core.frame.DataFrame'>\n",
      "Int64Index: 551 entries, 0 to 1507\n",
      "Data columns (total 8 columns):\n",
      " #   Column                         Non-Null Count  Dtype  \n",
      "---  ------                         --------------  -----  \n",
      " 0   synthesis method               551 non-null    object \n",
      " 1   Type of test                   551 non-null    object \n",
      " 2   Test temperature ($^\\circ$C)   551 non-null    float64\n",
      " 3   YS (MPa)                       551 non-null    float64\n",
      " 4   BCC/FCC/other                  551 non-null    object \n",
      " 5   Processing method              551 non-null    object \n",
      " 6   Calculated Density (g/cm$^3$)  551 non-null    float64\n",
      " 7   Young modulus_new (GPa)        551 non-null    float64\n",
      "dtypes: float64(4), object(4)\n",
      "memory usage: 38.7+ KB\n"
     ]
    }
   ],
   "source": [
    "df4.info()"
   ]
  },
  {
   "cell_type": "markdown",
   "metadata": {},
   "source": [
    "# after the removing outliers"
   ]
  },
  {
   "cell_type": "code",
   "execution_count": 167,
   "metadata": {},
   "outputs": [
    {
     "data": {
      "text/plain": [
       "<matplotlib.axes._subplots.AxesSubplot at 0x271c4ddc100>"
      ]
     },
     "execution_count": 167,
     "metadata": {},
     "output_type": "execute_result"
    },
    {
     "data": {
      "image/png": "[encoded data removed]",
      "text/plain": [
       "<Figure size 432x288 with 1 Axes>"
      ]
     },
     "metadata": {
      "needs_background": "light"
     },
     "output_type": "display_data"
    }
   ],
   "source": [
    "df4.boxplot(column='Test temperature ($^\\circ$C)', return_type='axes')"
   ]
  },
  {
   "cell_type": "code",
   "execution_count": 168,
   "metadata": {},
   "outputs": [
    {
     "data": {
      "text/plain": [
       "<matplotlib.axes._subplots.AxesSubplot at 0x271c72e38e0>"
      ]
     },
     "execution_count": 168,
     "metadata": {},
     "output_type": "execute_result"
    },
    {
     "data": {
      "image/png": "[encoded data removed]",
      "text/plain": [
       "<Figure size 432x288 with 1 Axes>"
      ]
     },
     "metadata": {
      "needs_background": "light"
     },
     "output_type": "display_data"
    }
   ],
   "source": [
    "df4.boxplot(column='YS (MPa)', return_type='axes')"
   ]
  },
  {
   "cell_type": "code",
   "execution_count": 169,
   "metadata": {},
   "outputs": [
    {
     "data": {
      "text/plain": [
       "<matplotlib.axes._subplots.AxesSubplot at 0x271c732d1f0>"
      ]
     },
     "execution_count": 169,
     "metadata": {},
     "output_type": "execute_result"
    },
    {
     "data": {
      "image/png": "[encoded data removed]",
      "text/plain": [
       "<Figure size 432x288 with 1 Axes>"
      ]
     },
     "metadata": {
      "needs_background": "light"
     },
     "output_type": "display_data"
    }
   ],
   "source": [
    "df4.boxplot(column='Calculated Density (g/cm$^3$)', return_type='axes')"
   ]
  },
  {
   "cell_type": "code",
   "execution_count": 170,
   "metadata": {},
   "outputs": [
    {
     "data": {
      "text/plain": [
       "<matplotlib.axes._subplots.AxesSubplot at 0x271c739aca0>"
      ]
     },
     "execution_count": 170,
     "metadata": {},
     "output_type": "execute_result"
    },
    {
     "data": {
      "image/png": "[encoded data removed]",
      "text/plain": [
       "<Figure size 432x288 with 1 Axes>"
      ]
     },
     "metadata": {
      "needs_background": "light"
     },
     "output_type": "display_data"
    }
   ],
   "source": [
    "df4.boxplot(column='Young modulus_new (GPa)', return_type='axes')"
   ]
  },
  {
   "cell_type": "code",
   "execution_count": null,
   "metadata": {},
   "outputs": [],
   "source": []
  },
  {
   "cell_type": "code",
   "execution_count": null,
   "metadata": {},
   "outputs": [],
   "source": []
  },
  {
   "cell_type": "code",
   "execution_count": 171,
   "metadata": {},
   "outputs": [],
   "source": [
    "#df1 = df1.dropna(subset=['Young modulus_new (GPa)'])"
   ]
  },
  {
   "cell_type": "code",
   "execution_count": 172,
   "metadata": {},
   "outputs": [],
   "source": [
    "#df1.info()"
   ]
  },
  {
   "cell_type": "code",
   "execution_count": 173,
   "metadata": {},
   "outputs": [],
   "source": [
    "#df1=df1.drop(['Elongation (%)','Elongation plastic (%)','Exp. Density (g/cm$^3$)','Calculated Young modulus (GPa)',],axis=1)"
   ]
  },
  {
   "cell_type": "code",
   "execution_count": 174,
   "metadata": {},
   "outputs": [],
   "source": [
    "#df1.info()"
   ]
  },
  {
   "cell_type": "code",
   "execution_count": 175,
   "metadata": {},
   "outputs": [],
   "source": [
    "#df1=df1.drop(['UTS (MPa)','HV','grain size ($\\mu$m)',],axis=1)"
   ]
  },
  {
   "cell_type": "code",
   "execution_count": 176,
   "metadata": {},
   "outputs": [],
   "source": [
    "#df1.info()"
   ]
  },
  {
   "cell_type": "code",
   "execution_count": null,
   "metadata": {},
   "outputs": [],
   "source": []
  },
  {
   "cell_type": "code",
   "execution_count": null,
   "metadata": {},
   "outputs": [],
   "source": []
  },
  {
   "cell_type": "code",
   "execution_count": null,
   "metadata": {},
   "outputs": [],
   "source": []
  },
  {
   "cell_type": "code",
   "execution_count": null,
   "metadata": {},
   "outputs": [],
   "source": []
  },
  {
   "cell_type": "code",
   "execution_count": null,
   "metadata": {},
   "outputs": [],
   "source": []
  },
  {
   "cell_type": "code",
   "execution_count": null,
   "metadata": {},
   "outputs": [],
   "source": []
  }
 ],
 "metadata": {
  "kernelspec": {
   "display_name": "Python 3",
   "language": "python",
   "name": "python3"
  },
  "language_info": {
   "codemirror_mode": {
    "name": "ipython",
    "version": 3
   },
   "file_extension": ".py",
   "mimetype": "text/x-python",
   "name": "python",
   "nbconvert_exporter": "python",
   "pygments_lexer": "ipython3",
   "version": "3.8.3"
  }
 },
 "nbformat": 4,
 "nbformat_minor": 4
}
